{
 "cells": [
  {
   "cell_type": "markdown",
   "metadata": {
    "id": "DRQHq7An9Svv"
   },
   "source": [
    "# Mudanças Climáticas\n",
    "\n",
    "Nesse problemas vamos estudar a relação entre algumas variáveis e a temperatura. O arquivo [climate_change.csv](https://raw.githubusercontent.com/abnr/ml-data/main/climate_change.csv) tem dados climáticos de Maio de 1983 até Dezembro de 2008, com a variáveis:\n",
    "\n",
    "* Year: o ano da observação.\n",
    "* Month: o mês da observação.\n",
    "* Temperature: a diferença em graus Celsius entre a média global de temperatura naquele período e um valor de referência. Dado proveniente da [Climatic Research Unit at the University of East Anglia](https://sites.uea.ac.uk/cru/).\n",
    "* CO2, N2O, CH4, CFC.11, CFC.12: concentração atmosférica de dióxido de carbono (CO2), óxido nitroso (N2O), metano (CH4), triclorofluormetano (CCl3F, conhecido como CFC-11) e diclorofluormetano (CCl2F2, conhecido como CFC-12). Esses dados foram coletados da  [ESRL/NOAA Global Monitoring Division](http://www.esrl.noaa.gov/gmd/ccgg/data-products.html).\n",
    "* Aerosols:  a media da profundidade óptica do aerosol estratosférico à 500 nm. Essa variável é ligada com a atividade vulcânica, já que essa atividade lança partículas na atmosfera que afetam o quanto da energia do sol é refletida novamente para o espaço. Esse dado é do [Godard Institute for Space Studies at NASA](http://data.giss.nasa.gov/modelforce/strataer/).\n",
    "* TSI: o total da irradiãncia solar em W/m2 (a quantidade de energia solar depositada por unidade de área). Devido a manchas solares e outros fenômenos solares, essa quantidade de energia pode variar com o tempo. Dado proveniente do [SOLARIS-HEPPA](http://solarisheppa.geomar.de/solarisheppa/cmip5).\n",
    "* MEI: multivariate El Nino Southern Oscillation index (MEI), uma medida de força do El Nino/La Nina. Dado do [ESRL/NOAA Physical Sciences Division](https://www.esrl.noaa.gov/psd/).\n",
    "\n"
   ]
  },
  {
   "cell_type": "code",
   "execution_count": 29,
   "metadata": {},
   "outputs": [],
   "source": [
    "#Libraries import\n",
    "import pandas as pd\n",
    "import numpy as np\n",
    "import statsmodels.api as sm\n",
    "import matplotlib.pyplot as plt"
   ]
  },
  {
   "cell_type": "markdown",
   "metadata": {
    "id": "oLK7QqG_H383"
   },
   "source": [
    "## Problema 1\n",
    "\n",
    "Nos estamos interessados em saber como alterações nessas variáveis afetam as temperaturas futuras e como essas variáveis explicam as mudanças na temperatura. Para fazer isso, leia o dataset, divida em um dataset para treino usando dados até 2006 (incluso). O dataset de treino é aquele que vai ser usado para encontrar os parâmetros do modelo. \n",
    "\n",
    "Crie um modelo de regressão para prever Temp usando MEI, CO2, CH4, N2), CFC.11, CFC.12, TSI e Aerosol (Não use ano e mês).\n",
    "\n",
    "Qual o valor de $R^2$ que você encontrou?"
   ]
  },
  {
   "cell_type": "code",
   "execution_count": 30,
   "metadata": {
    "id": "CCr3jlJ09PY5"
   },
   "outputs": [
    {
     "data": {
      "text/html": [
       "<div>\n",
       "<style scoped>\n",
       "    .dataframe tbody tr th:only-of-type {\n",
       "        vertical-align: middle;\n",
       "    }\n",
       "\n",
       "    .dataframe tbody tr th {\n",
       "        vertical-align: top;\n",
       "    }\n",
       "\n",
       "    .dataframe thead th {\n",
       "        text-align: right;\n",
       "    }\n",
       "</style>\n",
       "<table border=\"1\" class=\"dataframe\">\n",
       "  <thead>\n",
       "    <tr style=\"text-align: right;\">\n",
       "      <th></th>\n",
       "      <th>Year</th>\n",
       "      <th>Month</th>\n",
       "      <th>MEI</th>\n",
       "      <th>CO2</th>\n",
       "      <th>CH4</th>\n",
       "      <th>N2O</th>\n",
       "      <th>CFC-11</th>\n",
       "      <th>CFC-12</th>\n",
       "      <th>TSI</th>\n",
       "      <th>Aerosols</th>\n",
       "      <th>Temp</th>\n",
       "    </tr>\n",
       "  </thead>\n",
       "  <tbody>\n",
       "    <tr>\n",
       "      <th>0</th>\n",
       "      <td>1983</td>\n",
       "      <td>5</td>\n",
       "      <td>2.556</td>\n",
       "      <td>345.96</td>\n",
       "      <td>1638.59</td>\n",
       "      <td>303.677</td>\n",
       "      <td>191.324</td>\n",
       "      <td>350.113</td>\n",
       "      <td>1366.1024</td>\n",
       "      <td>0.0863</td>\n",
       "      <td>0.109</td>\n",
       "    </tr>\n",
       "    <tr>\n",
       "      <th>1</th>\n",
       "      <td>1983</td>\n",
       "      <td>6</td>\n",
       "      <td>2.167</td>\n",
       "      <td>345.52</td>\n",
       "      <td>1633.71</td>\n",
       "      <td>303.746</td>\n",
       "      <td>192.057</td>\n",
       "      <td>351.848</td>\n",
       "      <td>1366.1208</td>\n",
       "      <td>0.0794</td>\n",
       "      <td>0.118</td>\n",
       "    </tr>\n",
       "    <tr>\n",
       "      <th>2</th>\n",
       "      <td>1983</td>\n",
       "      <td>7</td>\n",
       "      <td>1.741</td>\n",
       "      <td>344.15</td>\n",
       "      <td>1633.22</td>\n",
       "      <td>303.795</td>\n",
       "      <td>192.818</td>\n",
       "      <td>353.725</td>\n",
       "      <td>1366.2850</td>\n",
       "      <td>0.0731</td>\n",
       "      <td>0.137</td>\n",
       "    </tr>\n",
       "    <tr>\n",
       "      <th>3</th>\n",
       "      <td>1983</td>\n",
       "      <td>8</td>\n",
       "      <td>1.130</td>\n",
       "      <td>342.25</td>\n",
       "      <td>1631.35</td>\n",
       "      <td>303.839</td>\n",
       "      <td>193.602</td>\n",
       "      <td>355.633</td>\n",
       "      <td>1366.4202</td>\n",
       "      <td>0.0673</td>\n",
       "      <td>0.176</td>\n",
       "    </tr>\n",
       "    <tr>\n",
       "      <th>4</th>\n",
       "      <td>1983</td>\n",
       "      <td>9</td>\n",
       "      <td>0.428</td>\n",
       "      <td>340.17</td>\n",
       "      <td>1648.40</td>\n",
       "      <td>303.901</td>\n",
       "      <td>194.392</td>\n",
       "      <td>357.465</td>\n",
       "      <td>1366.2335</td>\n",
       "      <td>0.0619</td>\n",
       "      <td>0.149</td>\n",
       "    </tr>\n",
       "    <tr>\n",
       "      <th>...</th>\n",
       "      <td>...</td>\n",
       "      <td>...</td>\n",
       "      <td>...</td>\n",
       "      <td>...</td>\n",
       "      <td>...</td>\n",
       "      <td>...</td>\n",
       "      <td>...</td>\n",
       "      <td>...</td>\n",
       "      <td>...</td>\n",
       "      <td>...</td>\n",
       "      <td>...</td>\n",
       "    </tr>\n",
       "    <tr>\n",
       "      <th>303</th>\n",
       "      <td>2008</td>\n",
       "      <td>8</td>\n",
       "      <td>-0.266</td>\n",
       "      <td>384.15</td>\n",
       "      <td>1779.88</td>\n",
       "      <td>321.405</td>\n",
       "      <td>244.200</td>\n",
       "      <td>535.072</td>\n",
       "      <td>1365.6570</td>\n",
       "      <td>0.0036</td>\n",
       "      <td>0.407</td>\n",
       "    </tr>\n",
       "    <tr>\n",
       "      <th>304</th>\n",
       "      <td>2008</td>\n",
       "      <td>9</td>\n",
       "      <td>-0.643</td>\n",
       "      <td>383.09</td>\n",
       "      <td>1795.08</td>\n",
       "      <td>321.529</td>\n",
       "      <td>244.083</td>\n",
       "      <td>535.048</td>\n",
       "      <td>1365.6647</td>\n",
       "      <td>0.0043</td>\n",
       "      <td>0.378</td>\n",
       "    </tr>\n",
       "    <tr>\n",
       "      <th>305</th>\n",
       "      <td>2008</td>\n",
       "      <td>10</td>\n",
       "      <td>-0.780</td>\n",
       "      <td>382.99</td>\n",
       "      <td>1814.18</td>\n",
       "      <td>321.796</td>\n",
       "      <td>244.080</td>\n",
       "      <td>534.927</td>\n",
       "      <td>1365.6759</td>\n",
       "      <td>0.0046</td>\n",
       "      <td>0.440</td>\n",
       "    </tr>\n",
       "    <tr>\n",
       "      <th>306</th>\n",
       "      <td>2008</td>\n",
       "      <td>11</td>\n",
       "      <td>-0.621</td>\n",
       "      <td>384.13</td>\n",
       "      <td>1812.37</td>\n",
       "      <td>322.013</td>\n",
       "      <td>244.225</td>\n",
       "      <td>534.906</td>\n",
       "      <td>1365.7065</td>\n",
       "      <td>0.0048</td>\n",
       "      <td>0.394</td>\n",
       "    </tr>\n",
       "    <tr>\n",
       "      <th>307</th>\n",
       "      <td>2008</td>\n",
       "      <td>12</td>\n",
       "      <td>-0.666</td>\n",
       "      <td>385.56</td>\n",
       "      <td>1812.88</td>\n",
       "      <td>322.182</td>\n",
       "      <td>244.204</td>\n",
       "      <td>535.005</td>\n",
       "      <td>1365.6926</td>\n",
       "      <td>0.0046</td>\n",
       "      <td>0.330</td>\n",
       "    </tr>\n",
       "  </tbody>\n",
       "</table>\n",
       "<p>308 rows × 11 columns</p>\n",
       "</div>"
      ],
      "text/plain": [
       "     Year  Month    MEI     CO2      CH4      N2O   CFC-11   CFC-12  \\\n",
       "0    1983      5  2.556  345.96  1638.59  303.677  191.324  350.113   \n",
       "1    1983      6  2.167  345.52  1633.71  303.746  192.057  351.848   \n",
       "2    1983      7  1.741  344.15  1633.22  303.795  192.818  353.725   \n",
       "3    1983      8  1.130  342.25  1631.35  303.839  193.602  355.633   \n",
       "4    1983      9  0.428  340.17  1648.40  303.901  194.392  357.465   \n",
       "..    ...    ...    ...     ...      ...      ...      ...      ...   \n",
       "303  2008      8 -0.266  384.15  1779.88  321.405  244.200  535.072   \n",
       "304  2008      9 -0.643  383.09  1795.08  321.529  244.083  535.048   \n",
       "305  2008     10 -0.780  382.99  1814.18  321.796  244.080  534.927   \n",
       "306  2008     11 -0.621  384.13  1812.37  322.013  244.225  534.906   \n",
       "307  2008     12 -0.666  385.56  1812.88  322.182  244.204  535.005   \n",
       "\n",
       "           TSI  Aerosols   Temp  \n",
       "0    1366.1024    0.0863  0.109  \n",
       "1    1366.1208    0.0794  0.118  \n",
       "2    1366.2850    0.0731  0.137  \n",
       "3    1366.4202    0.0673  0.176  \n",
       "4    1366.2335    0.0619  0.149  \n",
       "..         ...       ...    ...  \n",
       "303  1365.6570    0.0036  0.407  \n",
       "304  1365.6647    0.0043  0.378  \n",
       "305  1365.6759    0.0046  0.440  \n",
       "306  1365.7065    0.0048  0.394  \n",
       "307  1365.6926    0.0046  0.330  \n",
       "\n",
       "[308 rows x 11 columns]"
      ]
     },
     "execution_count": 30,
     "metadata": {},
     "output_type": "execute_result"
    }
   ],
   "source": [
    "#Data Read\n",
    "df_climate_change = pd.read_csv('climate_change.csv')\n",
    "df_climate_change"
   ]
  },
  {
   "cell_type": "code",
   "execution_count": 31,
   "metadata": {},
   "outputs": [
    {
     "data": {
      "text/plain": [
       "Year          int64\n",
       "Month         int64\n",
       "MEI         float64\n",
       "CO2         float64\n",
       "CH4         float64\n",
       "N2O         float64\n",
       "CFC-11      float64\n",
       "CFC-12      float64\n",
       "TSI         float64\n",
       "Aerosols    float64\n",
       "Temp        float64\n",
       "dtype: object"
      ]
     },
     "execution_count": 31,
     "metadata": {},
     "output_type": "execute_result"
    }
   ],
   "source": [
    "df_climate_change.dtypes"
   ]
  },
  {
   "cell_type": "code",
   "execution_count": 32,
   "metadata": {},
   "outputs": [
    {
     "name": "stdout",
     "output_type": "stream",
     "text": [
      "<class 'pandas.core.frame.DataFrame'>\n",
      "RangeIndex: 308 entries, 0 to 307\n",
      "Data columns (total 11 columns):\n",
      " #   Column    Non-Null Count  Dtype  \n",
      "---  ------    --------------  -----  \n",
      " 0   Year      308 non-null    int64  \n",
      " 1   Month     308 non-null    int64  \n",
      " 2   MEI       308 non-null    float64\n",
      " 3   CO2       308 non-null    float64\n",
      " 4   CH4       308 non-null    float64\n",
      " 5   N2O       308 non-null    float64\n",
      " 6   CFC-11    308 non-null    float64\n",
      " 7   CFC-12    308 non-null    float64\n",
      " 8   TSI       308 non-null    float64\n",
      " 9   Aerosols  308 non-null    float64\n",
      " 10  Temp      308 non-null    float64\n",
      "dtypes: float64(9), int64(2)\n",
      "memory usage: 26.6 KB\n"
     ]
    }
   ],
   "source": [
    "df_climate_change.info()"
   ]
  },
  {
   "cell_type": "code",
   "execution_count": 33,
   "metadata": {},
   "outputs": [
    {
     "name": "stdout",
     "output_type": "stream",
     "text": [
      "Year        0\n",
      "Month       0\n",
      "MEI         0\n",
      "CO2         0\n",
      "CH4         0\n",
      "N2O         0\n",
      "CFC-11      0\n",
      "CFC-12      0\n",
      "TSI         0\n",
      "Aerosols    0\n",
      "Temp        0\n",
      "dtype: int64\n"
     ]
    }
   ],
   "source": [
    "print(df_climate_change.isna().sum()) "
   ]
  },
  {
   "cell_type": "code",
   "execution_count": 34,
   "metadata": {},
   "outputs": [
    {
     "data": {
      "text/html": [
       "<div>\n",
       "<style scoped>\n",
       "    .dataframe tbody tr th:only-of-type {\n",
       "        vertical-align: middle;\n",
       "    }\n",
       "\n",
       "    .dataframe tbody tr th {\n",
       "        vertical-align: top;\n",
       "    }\n",
       "\n",
       "    .dataframe thead th {\n",
       "        text-align: right;\n",
       "    }\n",
       "</style>\n",
       "<table border=\"1\" class=\"dataframe\">\n",
       "  <thead>\n",
       "    <tr style=\"text-align: right;\">\n",
       "      <th></th>\n",
       "      <th>Year</th>\n",
       "      <th>Month</th>\n",
       "      <th>MEI</th>\n",
       "      <th>CO2</th>\n",
       "      <th>CH4</th>\n",
       "      <th>N2O</th>\n",
       "      <th>CFC-11</th>\n",
       "      <th>CFC-12</th>\n",
       "      <th>TSI</th>\n",
       "      <th>Aerosols</th>\n",
       "      <th>Temp</th>\n",
       "    </tr>\n",
       "  </thead>\n",
       "  <tbody>\n",
       "    <tr>\n",
       "      <th>44</th>\n",
       "      <td>1987</td>\n",
       "      <td>1</td>\n",
       "      <td>1.237</td>\n",
       "      <td>348.38</td>\n",
       "      <td>1692.74</td>\n",
       "      <td>306.368</td>\n",
       "      <td>229.846</td>\n",
       "      <td>412.92</td>\n",
       "      <td>1365.6674</td>\n",
       "      <td>0.0118</td>\n",
       "      <td>0.116</td>\n",
       "    </tr>\n",
       "  </tbody>\n",
       "</table>\n",
       "</div>"
      ],
      "text/plain": [
       "    Year  Month    MEI     CO2      CH4      N2O   CFC-11  CFC-12        TSI  \\\n",
       "44  1987      1  1.237  348.38  1692.74  306.368  229.846  412.92  1365.6674   \n",
       "\n",
       "    Aerosols   Temp  \n",
       "44    0.0118  0.116  "
      ]
     },
     "execution_count": 34,
     "metadata": {},
     "output_type": "execute_result"
    }
   ],
   "source": [
    "#df_climate_change_train =\n",
    "df_climate_change_train = df_climate_change[df_climate_change['Year'] < 2007]\n",
    "df_climate_change_train.sample()"
   ]
  },
  {
   "cell_type": "code",
   "execution_count": 35,
   "metadata": {},
   "outputs": [
    {
     "name": "stdout",
     "output_type": "stream",
     "text": [
      "                            OLS Regression Results                            \n",
      "==============================================================================\n",
      "Dep. Variable:                   Temp   R-squared:                       0.751\n",
      "Model:                            OLS   Adj. R-squared:                  0.744\n",
      "Method:                 Least Squares   F-statistic:                     103.6\n",
      "Date:                Sun, 23 May 2021   Prob (F-statistic):           1.94e-78\n",
      "Time:                        23:00:13   Log-Likelihood:                 280.10\n",
      "No. Observations:                 284   AIC:                            -542.2\n",
      "Df Residuals:                     275   BIC:                            -509.4\n",
      "Df Model:                           8                                         \n",
      "Covariance Type:            nonrobust                                         \n",
      "==============================================================================\n",
      "                 coef    std err          t      P>|t|      [0.025      0.975]\n",
      "------------------------------------------------------------------------------\n",
      "const       -124.5943     19.887     -6.265      0.000    -163.744     -85.445\n",
      "MEI            0.0642      0.006      9.923      0.000       0.051       0.077\n",
      "CO2            0.0065      0.002      2.826      0.005       0.002       0.011\n",
      "CH4            0.0001      0.001      0.240      0.810      -0.001       0.001\n",
      "N2O           -0.0165      0.009     -1.930      0.055      -0.033       0.000\n",
      "CFC-11        -0.0066      0.002     -4.078      0.000      -0.010      -0.003\n",
      "CFC-12         0.0038      0.001      3.757      0.000       0.002       0.006\n",
      "TSI            0.0931      0.015      6.313      0.000       0.064       0.122\n",
      "Aerosols      -1.5376      0.213     -7.210      0.000      -1.957      -1.118\n",
      "==============================================================================\n",
      "Omnibus:                        8.740   Durbin-Watson:                   0.956\n",
      "Prob(Omnibus):                  0.013   Jarque-Bera (JB):               10.327\n",
      "Skew:                           0.289   Prob(JB):                      0.00572\n",
      "Kurtosis:                       3.733   Cond. No.                     8.53e+06\n",
      "==============================================================================\n",
      "\n",
      "Notes:\n",
      "[1] Standard Errors assume that the covariance matrix of the errors is correctly specified.\n",
      "[2] The condition number is large, 8.53e+06. This might indicate that there are\n",
      "strong multicollinearity or other numerical problems.\n"
     ]
    }
   ],
   "source": [
    "X = df_climate_change_train[['MEI', 'CO2', 'CH4', 'N2O', 'CFC-11', 'CFC-12', 'TSI', 'Aerosols']]\n",
    "Y = df_climate_change_train[['Temp']]\n",
    "X = sm.add_constant(X)\n",
    "modelo_linear_climate_change  = sm.OLS(Y, X)\n",
    "modelo_linear_climate_change = modelo_linear_climate_change.fit()\n",
    "print(modelo_linear_climate_change.summary())"
   ]
  },
  {
   "cell_type": "markdown",
   "metadata": {},
   "source": [
    "Qual o valor de  𝑅²  que você encontrou?\n",
    "\n",
    "R-squared = 0.751\n",
    "\n",
    "Isso indica que uma grande proporção da variância da variável resposta é explicada pela regressão"
   ]
  },
  {
   "cell_type": "markdown",
   "metadata": {
    "id": "fHBFStnqAT3l"
   },
   "source": [
    "## Problema 2\n",
    "\n",
    "Quais variáveis foram significativas?"
   ]
  },
  {
   "cell_type": "markdown",
   "metadata": {
    "id": "jM7UWXxaBI3w"
   },
   "source": [
    "As variáveis significativas são aquelas que tem P-Valor próximos de 0.\n",
    "MEI, CO2, CFC-11, CFC-12, TSI e Aerosols"
   ]
  },
  {
   "cell_type": "markdown",
   "metadata": {
    "id": "_CGItWg9BJfd"
   },
   "source": [
    "## Problema 3\n",
    "\n",
    "A opinião científica atual é que N20 e CFC-11 são gases de efeito estufa. Entretanto os coeficientes dessas variáveis na regressão deram negativos, indicando que o aumento da concentração desses gases estariam associadas com baixas temperaturas. \n",
    "\n",
    "Qual a explicação para essa contradição?"
   ]
  },
  {
   "cell_type": "markdown",
   "metadata": {
    "id": "iLNrIiDyCDHM"
   },
   "source": []
  },
  {
   "cell_type": "markdown",
   "metadata": {
    "id": "Qny1SyTXCDg5"
   },
   "source": [
    "## Problema 4\n",
    "\n",
    "Calcule a correlação entre todas as variáveis do conjunto de treinamento. \n",
    "\n",
    "1. Quais outras variáveis são muito correlacionadas com N2O (correlação > 0.7) ? \n",
    "2. Quais outras variáveis são muito correlacionadas com CFC.11 ?"
   ]
  },
  {
   "cell_type": "code",
   "execution_count": 37,
   "metadata": {
    "id": "9SV7cdk7DMOq"
   },
   "outputs": [
    {
     "data": {
      "text/html": [
       "<style  type=\"text/css\" >\n",
       "#T_ec99f204_bc33_11eb_b972_c111eb40ff9arow0_col0,#T_ec99f204_bc33_11eb_b972_c111eb40ff9arow1_col1,#T_ec99f204_bc33_11eb_b972_c111eb40ff9arow2_col2,#T_ec99f204_bc33_11eb_b972_c111eb40ff9arow3_col3,#T_ec99f204_bc33_11eb_b972_c111eb40ff9arow4_col4,#T_ec99f204_bc33_11eb_b972_c111eb40ff9arow5_col5,#T_ec99f204_bc33_11eb_b972_c111eb40ff9arow6_col6,#T_ec99f204_bc33_11eb_b972_c111eb40ff9arow7_col7,#T_ec99f204_bc33_11eb_b972_c111eb40ff9arow8_col8,#T_ec99f204_bc33_11eb_b972_c111eb40ff9arow9_col9,#T_ec99f204_bc33_11eb_b972_c111eb40ff9arow10_col10{\n",
       "            background-color:  #b40426;\n",
       "            color:  #f1f1f1;\n",
       "        }#T_ec99f204_bc33_11eb_b972_c111eb40ff9arow0_col1{\n",
       "            background-color:  #506bda;\n",
       "            color:  #000000;\n",
       "        }#T_ec99f204_bc33_11eb_b972_c111eb40ff9arow0_col2,#T_ec99f204_bc33_11eb_b972_c111eb40ff9arow1_col8,#T_ec99f204_bc33_11eb_b972_c111eb40ff9arow4_col2{\n",
       "            background-color:  #5a78e4;\n",
       "            color:  #000000;\n",
       "        }#T_ec99f204_bc33_11eb_b972_c111eb40ff9arow0_col3,#T_ec99f204_bc33_11eb_b972_c111eb40ff9arow3_col0{\n",
       "            background-color:  #b8122a;\n",
       "            color:  #f1f1f1;\n",
       "        }#T_ec99f204_bc33_11eb_b972_c111eb40ff9arow0_col4{\n",
       "            background-color:  #cc403a;\n",
       "            color:  #f1f1f1;\n",
       "        }#T_ec99f204_bc33_11eb_b972_c111eb40ff9arow0_col5,#T_ec99f204_bc33_11eb_b972_c111eb40ff9arow5_col0{\n",
       "            background-color:  #b50927;\n",
       "            color:  #f1f1f1;\n",
       "        }#T_ec99f204_bc33_11eb_b972_c111eb40ff9arow0_col6{\n",
       "            background-color:  #f0cdbb;\n",
       "            color:  #000000;\n",
       "        }#T_ec99f204_bc33_11eb_b972_c111eb40ff9arow0_col7{\n",
       "            background-color:  #d1493f;\n",
       "            color:  #f1f1f1;\n",
       "        }#T_ec99f204_bc33_11eb_b972_c111eb40ff9arow0_col8,#T_ec99f204_bc33_11eb_b972_c111eb40ff9arow10_col2{\n",
       "            background-color:  #98b9ff;\n",
       "            color:  #000000;\n",
       "        }#T_ec99f204_bc33_11eb_b972_c111eb40ff9arow0_col9,#T_ec99f204_bc33_11eb_b972_c111eb40ff9arow1_col6{\n",
       "            background-color:  #4358cb;\n",
       "            color:  #f1f1f1;\n",
       "        }#T_ec99f204_bc33_11eb_b972_c111eb40ff9arow0_col10,#T_ec99f204_bc33_11eb_b972_c111eb40ff9arow3_col10,#T_ec99f204_bc33_11eb_b972_c111eb40ff9arow10_col3{\n",
       "            background-color:  #e46e56;\n",
       "            color:  #000000;\n",
       "        }#T_ec99f204_bc33_11eb_b972_c111eb40ff9arow1_col0{\n",
       "            background-color:  #88abfd;\n",
       "            color:  #000000;\n",
       "        }#T_ec99f204_bc33_11eb_b972_c111eb40ff9arow1_col2{\n",
       "            background-color:  #6485ec;\n",
       "            color:  #000000;\n",
       "        }#T_ec99f204_bc33_11eb_b972_c111eb40ff9arow1_col3,#T_ec99f204_bc33_11eb_b972_c111eb40ff9arow1_col7,#T_ec99f204_bc33_11eb_b972_c111eb40ff9arow2_col4{\n",
       "            background-color:  #7699f6;\n",
       "            color:  #000000;\n",
       "        }#T_ec99f204_bc33_11eb_b972_c111eb40ff9arow1_col4{\n",
       "            background-color:  #84a7fc;\n",
       "            color:  #000000;\n",
       "        }#T_ec99f204_bc33_11eb_b972_c111eb40ff9arow1_col5{\n",
       "            background-color:  #92b4fe;\n",
       "            color:  #000000;\n",
       "        }#T_ec99f204_bc33_11eb_b972_c111eb40ff9arow1_col9,#T_ec99f204_bc33_11eb_b972_c111eb40ff9arow3_col8{\n",
       "            background-color:  #9abbff;\n",
       "            color:  #000000;\n",
       "        }#T_ec99f204_bc33_11eb_b972_c111eb40ff9arow1_col10{\n",
       "            background-color:  #7da0f9;\n",
       "            color:  #000000;\n",
       "        }#T_ec99f204_bc33_11eb_b972_c111eb40ff9arow2_col0{\n",
       "            background-color:  #85a8fc;\n",
       "            color:  #000000;\n",
       "        }#T_ec99f204_bc33_11eb_b972_c111eb40ff9arow2_col1,#T_ec99f204_bc33_11eb_b972_c111eb40ff9arow7_col1{\n",
       "            background-color:  #5875e1;\n",
       "            color:  #000000;\n",
       "        }#T_ec99f204_bc33_11eb_b972_c111eb40ff9arow2_col3{\n",
       "            background-color:  #86a9fc;\n",
       "            color:  #000000;\n",
       "        }#T_ec99f204_bc33_11eb_b972_c111eb40ff9arow2_col5{\n",
       "            background-color:  #80a3fa;\n",
       "            color:  #000000;\n",
       "        }#T_ec99f204_bc33_11eb_b972_c111eb40ff9arow2_col6,#T_ec99f204_bc33_11eb_b972_c111eb40ff9arow5_col1{\n",
       "            background-color:  #5b7ae5;\n",
       "            color:  #000000;\n",
       "        }#T_ec99f204_bc33_11eb_b972_c111eb40ff9arow2_col7{\n",
       "            background-color:  #779af7;\n",
       "            color:  #000000;\n",
       "        }#T_ec99f204_bc33_11eb_b972_c111eb40ff9arow2_col8,#T_ec99f204_bc33_11eb_b972_c111eb40ff9arow3_col1,#T_ec99f204_bc33_11eb_b972_c111eb40ff9arow8_col2,#T_ec99f204_bc33_11eb_b972_c111eb40ff9arow9_col0,#T_ec99f204_bc33_11eb_b972_c111eb40ff9arow9_col3,#T_ec99f204_bc33_11eb_b972_c111eb40ff9arow9_col4,#T_ec99f204_bc33_11eb_b972_c111eb40ff9arow9_col5,#T_ec99f204_bc33_11eb_b972_c111eb40ff9arow9_col6,#T_ec99f204_bc33_11eb_b972_c111eb40ff9arow9_col7,#T_ec99f204_bc33_11eb_b972_c111eb40ff9arow9_col10,#T_ec99f204_bc33_11eb_b972_c111eb40ff9arow10_col9{\n",
       "            background-color:  #3b4cc0;\n",
       "            color:  #f1f1f1;\n",
       "        }#T_ec99f204_bc33_11eb_b972_c111eb40ff9arow2_col9{\n",
       "            background-color:  #e3d9d3;\n",
       "            color:  #000000;\n",
       "        }#T_ec99f204_bc33_11eb_b972_c111eb40ff9arow2_col10,#T_ec99f204_bc33_11eb_b972_c111eb40ff9arow8_col4{\n",
       "            background-color:  #c1d4f4;\n",
       "            color:  #000000;\n",
       "        }#T_ec99f204_bc33_11eb_b972_c111eb40ff9arow3_col2{\n",
       "            background-color:  #5977e3;\n",
       "            color:  #000000;\n",
       "        }#T_ec99f204_bc33_11eb_b972_c111eb40ff9arow3_col4{\n",
       "            background-color:  #d55042;\n",
       "            color:  #000000;\n",
       "        }#T_ec99f204_bc33_11eb_b972_c111eb40ff9arow3_col5,#T_ec99f204_bc33_11eb_b972_c111eb40ff9arow5_col3{\n",
       "            background-color:  #ba162b;\n",
       "            color:  #f1f1f1;\n",
       "        }#T_ec99f204_bc33_11eb_b972_c111eb40ff9arow3_col6{\n",
       "            background-color:  #e5d8d1;\n",
       "            color:  #000000;\n",
       "        }#T_ec99f204_bc33_11eb_b972_c111eb40ff9arow3_col7{\n",
       "            background-color:  #dc5d4a;\n",
       "            color:  #000000;\n",
       "        }#T_ec99f204_bc33_11eb_b972_c111eb40ff9arow3_col9{\n",
       "            background-color:  #4055c8;\n",
       "            color:  #f1f1f1;\n",
       "        }#T_ec99f204_bc33_11eb_b972_c111eb40ff9arow4_col0{\n",
       "            background-color:  #cb3e38;\n",
       "            color:  #f1f1f1;\n",
       "        }#T_ec99f204_bc33_11eb_b972_c111eb40ff9arow4_col1,#T_ec99f204_bc33_11eb_b972_c111eb40ff9arow9_col1{\n",
       "            background-color:  #5d7ce6;\n",
       "            color:  #000000;\n",
       "        }#T_ec99f204_bc33_11eb_b972_c111eb40ff9arow4_col3{\n",
       "            background-color:  #d44e41;\n",
       "            color:  #000000;\n",
       "        }#T_ec99f204_bc33_11eb_b972_c111eb40ff9arow4_col5,#T_ec99f204_bc33_11eb_b972_c111eb40ff9arow7_col0{\n",
       "            background-color:  #cf453c;\n",
       "            color:  #f1f1f1;\n",
       "        }#T_ec99f204_bc33_11eb_b972_c111eb40ff9arow4_col6{\n",
       "            background-color:  #ef886b;\n",
       "            color:  #000000;\n",
       "        }#T_ec99f204_bc33_11eb_b972_c111eb40ff9arow4_col7,#T_ec99f204_bc33_11eb_b972_c111eb40ff9arow7_col4{\n",
       "            background-color:  #be242e;\n",
       "            color:  #f1f1f1;\n",
       "        }#T_ec99f204_bc33_11eb_b972_c111eb40ff9arow4_col8,#T_ec99f204_bc33_11eb_b972_c111eb40ff9arow10_col8{\n",
       "            background-color:  #aec9fc;\n",
       "            color:  #000000;\n",
       "        }#T_ec99f204_bc33_11eb_b972_c111eb40ff9arow4_col9,#T_ec99f204_bc33_11eb_b972_c111eb40ff9arow6_col1{\n",
       "            background-color:  #5470de;\n",
       "            color:  #000000;\n",
       "        }#T_ec99f204_bc33_11eb_b972_c111eb40ff9arow4_col10{\n",
       "            background-color:  #f08a6c;\n",
       "            color:  #000000;\n",
       "        }#T_ec99f204_bc33_11eb_b972_c111eb40ff9arow5_col2{\n",
       "            background-color:  #5572df;\n",
       "            color:  #000000;\n",
       "        }#T_ec99f204_bc33_11eb_b972_c111eb40ff9arow5_col4{\n",
       "            background-color:  #d0473d;\n",
       "            color:  #f1f1f1;\n",
       "        }#T_ec99f204_bc33_11eb_b972_c111eb40ff9arow5_col6{\n",
       "            background-color:  #e7d7ce;\n",
       "            color:  #000000;\n",
       "        }#T_ec99f204_bc33_11eb_b972_c111eb40ff9arow5_col7,#T_ec99f204_bc33_11eb_b972_c111eb40ff9arow6_col7,#T_ec99f204_bc33_11eb_b972_c111eb40ff9arow7_col3{\n",
       "            background-color:  #d85646;\n",
       "            color:  #000000;\n",
       "        }#T_ec99f204_bc33_11eb_b972_c111eb40ff9arow5_col8{\n",
       "            background-color:  #a1c0ff;\n",
       "            color:  #000000;\n",
       "        }#T_ec99f204_bc33_11eb_b972_c111eb40ff9arow5_col9{\n",
       "            background-color:  #445acc;\n",
       "            color:  #f1f1f1;\n",
       "        }#T_ec99f204_bc33_11eb_b972_c111eb40ff9arow5_col10,#T_ec99f204_bc33_11eb_b972_c111eb40ff9arow10_col0{\n",
       "            background-color:  #e57058;\n",
       "            color:  #000000;\n",
       "        }#T_ec99f204_bc33_11eb_b972_c111eb40ff9arow6_col0{\n",
       "            background-color:  #f7b396;\n",
       "            color:  #000000;\n",
       "        }#T_ec99f204_bc33_11eb_b972_c111eb40ff9arow6_col2{\n",
       "            background-color:  #799cf8;\n",
       "            color:  #000000;\n",
       "        }#T_ec99f204_bc33_11eb_b972_c111eb40ff9arow6_col3,#T_ec99f204_bc33_11eb_b972_c111eb40ff9arow6_col5{\n",
       "            background-color:  #f6bfa6;\n",
       "            color:  #000000;\n",
       "        }#T_ec99f204_bc33_11eb_b972_c111eb40ff9arow6_col4{\n",
       "            background-color:  #e9785d;\n",
       "            color:  #000000;\n",
       "        }#T_ec99f204_bc33_11eb_b972_c111eb40ff9arow6_col8{\n",
       "            background-color:  #b6cefa;\n",
       "            color:  #000000;\n",
       "        }#T_ec99f204_bc33_11eb_b972_c111eb40ff9arow6_col9{\n",
       "            background-color:  #8caffe;\n",
       "            color:  #000000;\n",
       "        }#T_ec99f204_bc33_11eb_b972_c111eb40ff9arow6_col10{\n",
       "            background-color:  #edd1c2;\n",
       "            color:  #000000;\n",
       "        }#T_ec99f204_bc33_11eb_b972_c111eb40ff9arow7_col2{\n",
       "            background-color:  #6788ee;\n",
       "            color:  #000000;\n",
       "        }#T_ec99f204_bc33_11eb_b972_c111eb40ff9arow7_col5{\n",
       "            background-color:  #d65244;\n",
       "            color:  #000000;\n",
       "        }#T_ec99f204_bc33_11eb_b972_c111eb40ff9arow7_col6{\n",
       "            background-color:  #de614d;\n",
       "            color:  #000000;\n",
       "        }#T_ec99f204_bc33_11eb_b972_c111eb40ff9arow7_col8{\n",
       "            background-color:  #b1cbfc;\n",
       "            color:  #000000;\n",
       "        }#T_ec99f204_bc33_11eb_b972_c111eb40ff9arow7_col9{\n",
       "            background-color:  #5e7de7;\n",
       "            color:  #000000;\n",
       "        }#T_ec99f204_bc33_11eb_b972_c111eb40ff9arow7_col10{\n",
       "            background-color:  #f18f71;\n",
       "            color:  #000000;\n",
       "        }#T_ec99f204_bc33_11eb_b972_c111eb40ff9arow8_col0{\n",
       "            background-color:  #bbd1f8;\n",
       "            color:  #000000;\n",
       "        }#T_ec99f204_bc33_11eb_b972_c111eb40ff9arow8_col1{\n",
       "            background-color:  #4e68d8;\n",
       "            color:  #000000;\n",
       "        }#T_ec99f204_bc33_11eb_b972_c111eb40ff9arow8_col3,#T_ec99f204_bc33_11eb_b972_c111eb40ff9arow8_col7{\n",
       "            background-color:  #bed2f6;\n",
       "            color:  #000000;\n",
       "        }#T_ec99f204_bc33_11eb_b972_c111eb40ff9arow8_col5{\n",
       "            background-color:  #c0d4f5;\n",
       "            color:  #000000;\n",
       "        }#T_ec99f204_bc33_11eb_b972_c111eb40ff9arow8_col6{\n",
       "            background-color:  #9fbfff;\n",
       "            color:  #000000;\n",
       "        }#T_ec99f204_bc33_11eb_b972_c111eb40ff9arow8_col9{\n",
       "            background-color:  #a3c2fe;\n",
       "            color:  #000000;\n",
       "        }#T_ec99f204_bc33_11eb_b972_c111eb40ff9arow8_col10{\n",
       "            background-color:  #d1dae9;\n",
       "            color:  #000000;\n",
       "        }#T_ec99f204_bc33_11eb_b972_c111eb40ff9arow9_col2{\n",
       "            background-color:  #c9d7f0;\n",
       "            color:  #000000;\n",
       "        }#T_ec99f204_bc33_11eb_b972_c111eb40ff9arow9_col8{\n",
       "            background-color:  #7396f5;\n",
       "            color:  #000000;\n",
       "        }#T_ec99f204_bc33_11eb_b972_c111eb40ff9arow10_col1{\n",
       "            background-color:  #3c4ec2;\n",
       "            color:  #f1f1f1;\n",
       "        }#T_ec99f204_bc33_11eb_b972_c111eb40ff9arow10_col4{\n",
       "            background-color:  #f29274;\n",
       "            color:  #000000;\n",
       "        }#T_ec99f204_bc33_11eb_b972_c111eb40ff9arow10_col5{\n",
       "            background-color:  #e7745b;\n",
       "            color:  #000000;\n",
       "        }#T_ec99f204_bc33_11eb_b972_c111eb40ff9arow10_col6{\n",
       "            background-color:  #cad8ef;\n",
       "            color:  #000000;\n",
       "        }#T_ec99f204_bc33_11eb_b972_c111eb40ff9arow10_col7{\n",
       "            background-color:  #f59c7d;\n",
       "            color:  #000000;\n",
       "        }</style><table id=\"T_ec99f204_bc33_11eb_b972_c111eb40ff9a\" ><thead>    <tr>        <th class=\"blank level0\" ></th>        <th class=\"col_heading level0 col0\" >Year</th>        <th class=\"col_heading level0 col1\" >Month</th>        <th class=\"col_heading level0 col2\" >MEI</th>        <th class=\"col_heading level0 col3\" >CO2</th>        <th class=\"col_heading level0 col4\" >CH4</th>        <th class=\"col_heading level0 col5\" >N2O</th>        <th class=\"col_heading level0 col6\" >CFC-11</th>        <th class=\"col_heading level0 col7\" >CFC-12</th>        <th class=\"col_heading level0 col8\" >TSI</th>        <th class=\"col_heading level0 col9\" >Aerosols</th>        <th class=\"col_heading level0 col10\" >Temp</th>    </tr></thead><tbody>\n",
       "                <tr>\n",
       "                        <th id=\"T_ec99f204_bc33_11eb_b972_c111eb40ff9alevel0_row0\" class=\"row_heading level0 row0\" >Year</th>\n",
       "                        <td id=\"T_ec99f204_bc33_11eb_b972_c111eb40ff9arow0_col0\" class=\"data row0 col0\" >1.000000</td>\n",
       "                        <td id=\"T_ec99f204_bc33_11eb_b972_c111eb40ff9arow0_col1\" class=\"data row0 col1\" >-0.027942</td>\n",
       "                        <td id=\"T_ec99f204_bc33_11eb_b972_c111eb40ff9arow0_col2\" class=\"data row0 col2\" >-0.036988</td>\n",
       "                        <td id=\"T_ec99f204_bc33_11eb_b972_c111eb40ff9arow0_col3\" class=\"data row0 col3\" >0.982749</td>\n",
       "                        <td id=\"T_ec99f204_bc33_11eb_b972_c111eb40ff9arow0_col4\" class=\"data row0 col4\" >0.915659</td>\n",
       "                        <td id=\"T_ec99f204_bc33_11eb_b972_c111eb40ff9arow0_col5\" class=\"data row0 col5\" >0.993845</td>\n",
       "                        <td id=\"T_ec99f204_bc33_11eb_b972_c111eb40ff9arow0_col6\" class=\"data row0 col6\" >0.569106</td>\n",
       "                        <td id=\"T_ec99f204_bc33_11eb_b972_c111eb40ff9arow0_col7\" class=\"data row0 col7\" >0.897012</td>\n",
       "                        <td id=\"T_ec99f204_bc33_11eb_b972_c111eb40ff9arow0_col8\" class=\"data row0 col8\" >0.170302</td>\n",
       "                        <td id=\"T_ec99f204_bc33_11eb_b972_c111eb40ff9arow0_col9\" class=\"data row0 col9\" >-0.345247</td>\n",
       "                        <td id=\"T_ec99f204_bc33_11eb_b972_c111eb40ff9arow0_col10\" class=\"data row0 col10\" >0.786797</td>\n",
       "            </tr>\n",
       "            <tr>\n",
       "                        <th id=\"T_ec99f204_bc33_11eb_b972_c111eb40ff9alevel0_row1\" class=\"row_heading level0 row1\" >Month</th>\n",
       "                        <td id=\"T_ec99f204_bc33_11eb_b972_c111eb40ff9arow1_col0\" class=\"data row1 col0\" >-0.027942</td>\n",
       "                        <td id=\"T_ec99f204_bc33_11eb_b972_c111eb40ff9arow1_col1\" class=\"data row1 col1\" >1.000000</td>\n",
       "                        <td id=\"T_ec99f204_bc33_11eb_b972_c111eb40ff9arow1_col2\" class=\"data row1 col2\" >0.000885</td>\n",
       "                        <td id=\"T_ec99f204_bc33_11eb_b972_c111eb40ff9arow1_col3\" class=\"data row1 col3\" >-0.106732</td>\n",
       "                        <td id=\"T_ec99f204_bc33_11eb_b972_c111eb40ff9arow1_col4\" class=\"data row1 col4\" >0.018569</td>\n",
       "                        <td id=\"T_ec99f204_bc33_11eb_b972_c111eb40ff9arow1_col5\" class=\"data row1 col5\" >0.013632</td>\n",
       "                        <td id=\"T_ec99f204_bc33_11eb_b972_c111eb40ff9arow1_col6\" class=\"data row1 col6\" >-0.013111</td>\n",
       "                        <td id=\"T_ec99f204_bc33_11eb_b972_c111eb40ff9arow1_col7\" class=\"data row1 col7\" >0.000675</td>\n",
       "                        <td id=\"T_ec99f204_bc33_11eb_b972_c111eb40ff9arow1_col8\" class=\"data row1 col8\" >-0.034606</td>\n",
       "                        <td id=\"T_ec99f204_bc33_11eb_b972_c111eb40ff9arow1_col9\" class=\"data row1 col9\" >0.014890</td>\n",
       "                        <td id=\"T_ec99f204_bc33_11eb_b972_c111eb40ff9arow1_col10\" class=\"data row1 col10\" >-0.099857</td>\n",
       "            </tr>\n",
       "            <tr>\n",
       "                        <th id=\"T_ec99f204_bc33_11eb_b972_c111eb40ff9alevel0_row2\" class=\"row_heading level0 row2\" >MEI</th>\n",
       "                        <td id=\"T_ec99f204_bc33_11eb_b972_c111eb40ff9arow2_col0\" class=\"data row2 col0\" >-0.036988</td>\n",
       "                        <td id=\"T_ec99f204_bc33_11eb_b972_c111eb40ff9arow2_col1\" class=\"data row2 col1\" >0.000885</td>\n",
       "                        <td id=\"T_ec99f204_bc33_11eb_b972_c111eb40ff9arow2_col2\" class=\"data row2 col2\" >1.000000</td>\n",
       "                        <td id=\"T_ec99f204_bc33_11eb_b972_c111eb40ff9arow2_col3\" class=\"data row2 col3\" >-0.041147</td>\n",
       "                        <td id=\"T_ec99f204_bc33_11eb_b972_c111eb40ff9arow2_col4\" class=\"data row2 col4\" >-0.033419</td>\n",
       "                        <td id=\"T_ec99f204_bc33_11eb_b972_c111eb40ff9arow2_col5\" class=\"data row2 col5\" >-0.050820</td>\n",
       "                        <td id=\"T_ec99f204_bc33_11eb_b972_c111eb40ff9arow2_col6\" class=\"data row2 col6\" >0.069000</td>\n",
       "                        <td id=\"T_ec99f204_bc33_11eb_b972_c111eb40ff9arow2_col7\" class=\"data row2 col7\" >0.008286</td>\n",
       "                        <td id=\"T_ec99f204_bc33_11eb_b972_c111eb40ff9arow2_col8\" class=\"data row2 col8\" >-0.154492</td>\n",
       "                        <td id=\"T_ec99f204_bc33_11eb_b972_c111eb40ff9arow2_col9\" class=\"data row2 col9\" >0.340238</td>\n",
       "                        <td id=\"T_ec99f204_bc33_11eb_b972_c111eb40ff9arow2_col10\" class=\"data row2 col10\" >0.172471</td>\n",
       "            </tr>\n",
       "            <tr>\n",
       "                        <th id=\"T_ec99f204_bc33_11eb_b972_c111eb40ff9alevel0_row3\" class=\"row_heading level0 row3\" >CO2</th>\n",
       "                        <td id=\"T_ec99f204_bc33_11eb_b972_c111eb40ff9arow3_col0\" class=\"data row3 col0\" >0.982749</td>\n",
       "                        <td id=\"T_ec99f204_bc33_11eb_b972_c111eb40ff9arow3_col1\" class=\"data row3 col1\" >-0.106732</td>\n",
       "                        <td id=\"T_ec99f204_bc33_11eb_b972_c111eb40ff9arow3_col2\" class=\"data row3 col2\" >-0.041147</td>\n",
       "                        <td id=\"T_ec99f204_bc33_11eb_b972_c111eb40ff9arow3_col3\" class=\"data row3 col3\" >1.000000</td>\n",
       "                        <td id=\"T_ec99f204_bc33_11eb_b972_c111eb40ff9arow3_col4\" class=\"data row3 col4\" >0.877280</td>\n",
       "                        <td id=\"T_ec99f204_bc33_11eb_b972_c111eb40ff9arow3_col5\" class=\"data row3 col5\" >0.976720</td>\n",
       "                        <td id=\"T_ec99f204_bc33_11eb_b972_c111eb40ff9arow3_col6\" class=\"data row3 col6\" >0.514060</td>\n",
       "                        <td id=\"T_ec99f204_bc33_11eb_b972_c111eb40ff9arow3_col7\" class=\"data row3 col7\" >0.852690</td>\n",
       "                        <td id=\"T_ec99f204_bc33_11eb_b972_c111eb40ff9arow3_col8\" class=\"data row3 col8\" >0.177429</td>\n",
       "                        <td id=\"T_ec99f204_bc33_11eb_b972_c111eb40ff9arow3_col9\" class=\"data row3 col9\" >-0.356155</td>\n",
       "                        <td id=\"T_ec99f204_bc33_11eb_b972_c111eb40ff9arow3_col10\" class=\"data row3 col10\" >0.788529</td>\n",
       "            </tr>\n",
       "            <tr>\n",
       "                        <th id=\"T_ec99f204_bc33_11eb_b972_c111eb40ff9alevel0_row4\" class=\"row_heading level0 row4\" >CH4</th>\n",
       "                        <td id=\"T_ec99f204_bc33_11eb_b972_c111eb40ff9arow4_col0\" class=\"data row4 col0\" >0.915659</td>\n",
       "                        <td id=\"T_ec99f204_bc33_11eb_b972_c111eb40ff9arow4_col1\" class=\"data row4 col1\" >0.018569</td>\n",
       "                        <td id=\"T_ec99f204_bc33_11eb_b972_c111eb40ff9arow4_col2\" class=\"data row4 col2\" >-0.033419</td>\n",
       "                        <td id=\"T_ec99f204_bc33_11eb_b972_c111eb40ff9arow4_col3\" class=\"data row4 col3\" >0.877280</td>\n",
       "                        <td id=\"T_ec99f204_bc33_11eb_b972_c111eb40ff9arow4_col4\" class=\"data row4 col4\" >1.000000</td>\n",
       "                        <td id=\"T_ec99f204_bc33_11eb_b972_c111eb40ff9arow4_col5\" class=\"data row4 col5\" >0.899839</td>\n",
       "                        <td id=\"T_ec99f204_bc33_11eb_b972_c111eb40ff9arow4_col6\" class=\"data row4 col6\" >0.779904</td>\n",
       "                        <td id=\"T_ec99f204_bc33_11eb_b972_c111eb40ff9arow4_col7\" class=\"data row4 col7\" >0.963616</td>\n",
       "                        <td id=\"T_ec99f204_bc33_11eb_b972_c111eb40ff9arow4_col8\" class=\"data row4 col8\" >0.245528</td>\n",
       "                        <td id=\"T_ec99f204_bc33_11eb_b972_c111eb40ff9arow4_col9\" class=\"data row4 col9\" >-0.267809</td>\n",
       "                        <td id=\"T_ec99f204_bc33_11eb_b972_c111eb40ff9arow4_col10\" class=\"data row4 col10\" >0.703255</td>\n",
       "            </tr>\n",
       "            <tr>\n",
       "                        <th id=\"T_ec99f204_bc33_11eb_b972_c111eb40ff9alevel0_row5\" class=\"row_heading level0 row5\" >N2O</th>\n",
       "                        <td id=\"T_ec99f204_bc33_11eb_b972_c111eb40ff9arow5_col0\" class=\"data row5 col0\" >0.993845</td>\n",
       "                        <td id=\"T_ec99f204_bc33_11eb_b972_c111eb40ff9arow5_col1\" class=\"data row5 col1\" >0.013632</td>\n",
       "                        <td id=\"T_ec99f204_bc33_11eb_b972_c111eb40ff9arow5_col2\" class=\"data row5 col2\" >-0.050820</td>\n",
       "                        <td id=\"T_ec99f204_bc33_11eb_b972_c111eb40ff9arow5_col3\" class=\"data row5 col3\" >0.976720</td>\n",
       "                        <td id=\"T_ec99f204_bc33_11eb_b972_c111eb40ff9arow5_col4\" class=\"data row5 col4\" >0.899839</td>\n",
       "                        <td id=\"T_ec99f204_bc33_11eb_b972_c111eb40ff9arow5_col5\" class=\"data row5 col5\" >1.000000</td>\n",
       "                        <td id=\"T_ec99f204_bc33_11eb_b972_c111eb40ff9arow5_col6\" class=\"data row5 col6\" >0.522477</td>\n",
       "                        <td id=\"T_ec99f204_bc33_11eb_b972_c111eb40ff9arow5_col7\" class=\"data row5 col7\" >0.867931</td>\n",
       "                        <td id=\"T_ec99f204_bc33_11eb_b972_c111eb40ff9arow5_col8\" class=\"data row5 col8\" >0.199757</td>\n",
       "                        <td id=\"T_ec99f204_bc33_11eb_b972_c111eb40ff9arow5_col9\" class=\"data row5 col9\" >-0.337055</td>\n",
       "                        <td id=\"T_ec99f204_bc33_11eb_b972_c111eb40ff9arow5_col10\" class=\"data row5 col10\" >0.778639</td>\n",
       "            </tr>\n",
       "            <tr>\n",
       "                        <th id=\"T_ec99f204_bc33_11eb_b972_c111eb40ff9alevel0_row6\" class=\"row_heading level0 row6\" >CFC-11</th>\n",
       "                        <td id=\"T_ec99f204_bc33_11eb_b972_c111eb40ff9arow6_col0\" class=\"data row6 col0\" >0.569106</td>\n",
       "                        <td id=\"T_ec99f204_bc33_11eb_b972_c111eb40ff9arow6_col1\" class=\"data row6 col1\" >-0.013111</td>\n",
       "                        <td id=\"T_ec99f204_bc33_11eb_b972_c111eb40ff9arow6_col2\" class=\"data row6 col2\" >0.069000</td>\n",
       "                        <td id=\"T_ec99f204_bc33_11eb_b972_c111eb40ff9arow6_col3\" class=\"data row6 col3\" >0.514060</td>\n",
       "                        <td id=\"T_ec99f204_bc33_11eb_b972_c111eb40ff9arow6_col4\" class=\"data row6 col4\" >0.779904</td>\n",
       "                        <td id=\"T_ec99f204_bc33_11eb_b972_c111eb40ff9arow6_col5\" class=\"data row6 col5\" >0.522477</td>\n",
       "                        <td id=\"T_ec99f204_bc33_11eb_b972_c111eb40ff9arow6_col6\" class=\"data row6 col6\" >1.000000</td>\n",
       "                        <td id=\"T_ec99f204_bc33_11eb_b972_c111eb40ff9arow6_col7\" class=\"data row6 col7\" >0.868985</td>\n",
       "                        <td id=\"T_ec99f204_bc33_11eb_b972_c111eb40ff9arow6_col8\" class=\"data row6 col8\" >0.272046</td>\n",
       "                        <td id=\"T_ec99f204_bc33_11eb_b972_c111eb40ff9arow6_col9\" class=\"data row6 col9\" >-0.043921</td>\n",
       "                        <td id=\"T_ec99f204_bc33_11eb_b972_c111eb40ff9arow6_col10\" class=\"data row6 col10\" >0.407710</td>\n",
       "            </tr>\n",
       "            <tr>\n",
       "                        <th id=\"T_ec99f204_bc33_11eb_b972_c111eb40ff9alevel0_row7\" class=\"row_heading level0 row7\" >CFC-12</th>\n",
       "                        <td id=\"T_ec99f204_bc33_11eb_b972_c111eb40ff9arow7_col0\" class=\"data row7 col0\" >0.897012</td>\n",
       "                        <td id=\"T_ec99f204_bc33_11eb_b972_c111eb40ff9arow7_col1\" class=\"data row7 col1\" >0.000675</td>\n",
       "                        <td id=\"T_ec99f204_bc33_11eb_b972_c111eb40ff9arow7_col2\" class=\"data row7 col2\" >0.008286</td>\n",
       "                        <td id=\"T_ec99f204_bc33_11eb_b972_c111eb40ff9arow7_col3\" class=\"data row7 col3\" >0.852690</td>\n",
       "                        <td id=\"T_ec99f204_bc33_11eb_b972_c111eb40ff9arow7_col4\" class=\"data row7 col4\" >0.963616</td>\n",
       "                        <td id=\"T_ec99f204_bc33_11eb_b972_c111eb40ff9arow7_col5\" class=\"data row7 col5\" >0.867931</td>\n",
       "                        <td id=\"T_ec99f204_bc33_11eb_b972_c111eb40ff9arow7_col6\" class=\"data row7 col6\" >0.868985</td>\n",
       "                        <td id=\"T_ec99f204_bc33_11eb_b972_c111eb40ff9arow7_col7\" class=\"data row7 col7\" >1.000000</td>\n",
       "                        <td id=\"T_ec99f204_bc33_11eb_b972_c111eb40ff9arow7_col8\" class=\"data row7 col8\" >0.255303</td>\n",
       "                        <td id=\"T_ec99f204_bc33_11eb_b972_c111eb40ff9arow7_col9\" class=\"data row7 col9\" >-0.225131</td>\n",
       "                        <td id=\"T_ec99f204_bc33_11eb_b972_c111eb40ff9arow7_col10\" class=\"data row7 col10\" >0.687558</td>\n",
       "            </tr>\n",
       "            <tr>\n",
       "                        <th id=\"T_ec99f204_bc33_11eb_b972_c111eb40ff9alevel0_row8\" class=\"row_heading level0 row8\" >TSI</th>\n",
       "                        <td id=\"T_ec99f204_bc33_11eb_b972_c111eb40ff9arow8_col0\" class=\"data row8 col0\" >0.170302</td>\n",
       "                        <td id=\"T_ec99f204_bc33_11eb_b972_c111eb40ff9arow8_col1\" class=\"data row8 col1\" >-0.034606</td>\n",
       "                        <td id=\"T_ec99f204_bc33_11eb_b972_c111eb40ff9arow8_col2\" class=\"data row8 col2\" >-0.154492</td>\n",
       "                        <td id=\"T_ec99f204_bc33_11eb_b972_c111eb40ff9arow8_col3\" class=\"data row8 col3\" >0.177429</td>\n",
       "                        <td id=\"T_ec99f204_bc33_11eb_b972_c111eb40ff9arow8_col4\" class=\"data row8 col4\" >0.245528</td>\n",
       "                        <td id=\"T_ec99f204_bc33_11eb_b972_c111eb40ff9arow8_col5\" class=\"data row8 col5\" >0.199757</td>\n",
       "                        <td id=\"T_ec99f204_bc33_11eb_b972_c111eb40ff9arow8_col6\" class=\"data row8 col6\" >0.272046</td>\n",
       "                        <td id=\"T_ec99f204_bc33_11eb_b972_c111eb40ff9arow8_col7\" class=\"data row8 col7\" >0.255303</td>\n",
       "                        <td id=\"T_ec99f204_bc33_11eb_b972_c111eb40ff9arow8_col8\" class=\"data row8 col8\" >1.000000</td>\n",
       "                        <td id=\"T_ec99f204_bc33_11eb_b972_c111eb40ff9arow8_col9\" class=\"data row8 col9\" >0.052117</td>\n",
       "                        <td id=\"T_ec99f204_bc33_11eb_b972_c111eb40ff9arow8_col10\" class=\"data row8 col10\" >0.243383</td>\n",
       "            </tr>\n",
       "            <tr>\n",
       "                        <th id=\"T_ec99f204_bc33_11eb_b972_c111eb40ff9alevel0_row9\" class=\"row_heading level0 row9\" >Aerosols</th>\n",
       "                        <td id=\"T_ec99f204_bc33_11eb_b972_c111eb40ff9arow9_col0\" class=\"data row9 col0\" >-0.345247</td>\n",
       "                        <td id=\"T_ec99f204_bc33_11eb_b972_c111eb40ff9arow9_col1\" class=\"data row9 col1\" >0.014890</td>\n",
       "                        <td id=\"T_ec99f204_bc33_11eb_b972_c111eb40ff9arow9_col2\" class=\"data row9 col2\" >0.340238</td>\n",
       "                        <td id=\"T_ec99f204_bc33_11eb_b972_c111eb40ff9arow9_col3\" class=\"data row9 col3\" >-0.356155</td>\n",
       "                        <td id=\"T_ec99f204_bc33_11eb_b972_c111eb40ff9arow9_col4\" class=\"data row9 col4\" >-0.267809</td>\n",
       "                        <td id=\"T_ec99f204_bc33_11eb_b972_c111eb40ff9arow9_col5\" class=\"data row9 col5\" >-0.337055</td>\n",
       "                        <td id=\"T_ec99f204_bc33_11eb_b972_c111eb40ff9arow9_col6\" class=\"data row9 col6\" >-0.043921</td>\n",
       "                        <td id=\"T_ec99f204_bc33_11eb_b972_c111eb40ff9arow9_col7\" class=\"data row9 col7\" >-0.225131</td>\n",
       "                        <td id=\"T_ec99f204_bc33_11eb_b972_c111eb40ff9arow9_col8\" class=\"data row9 col8\" >0.052117</td>\n",
       "                        <td id=\"T_ec99f204_bc33_11eb_b972_c111eb40ff9arow9_col9\" class=\"data row9 col9\" >1.000000</td>\n",
       "                        <td id=\"T_ec99f204_bc33_11eb_b972_c111eb40ff9arow9_col10\" class=\"data row9 col10\" >-0.384914</td>\n",
       "            </tr>\n",
       "            <tr>\n",
       "                        <th id=\"T_ec99f204_bc33_11eb_b972_c111eb40ff9alevel0_row10\" class=\"row_heading level0 row10\" >Temp</th>\n",
       "                        <td id=\"T_ec99f204_bc33_11eb_b972_c111eb40ff9arow10_col0\" class=\"data row10 col0\" >0.786797</td>\n",
       "                        <td id=\"T_ec99f204_bc33_11eb_b972_c111eb40ff9arow10_col1\" class=\"data row10 col1\" >-0.099857</td>\n",
       "                        <td id=\"T_ec99f204_bc33_11eb_b972_c111eb40ff9arow10_col2\" class=\"data row10 col2\" >0.172471</td>\n",
       "                        <td id=\"T_ec99f204_bc33_11eb_b972_c111eb40ff9arow10_col3\" class=\"data row10 col3\" >0.788529</td>\n",
       "                        <td id=\"T_ec99f204_bc33_11eb_b972_c111eb40ff9arow10_col4\" class=\"data row10 col4\" >0.703255</td>\n",
       "                        <td id=\"T_ec99f204_bc33_11eb_b972_c111eb40ff9arow10_col5\" class=\"data row10 col5\" >0.778639</td>\n",
       "                        <td id=\"T_ec99f204_bc33_11eb_b972_c111eb40ff9arow10_col6\" class=\"data row10 col6\" >0.407710</td>\n",
       "                        <td id=\"T_ec99f204_bc33_11eb_b972_c111eb40ff9arow10_col7\" class=\"data row10 col7\" >0.687558</td>\n",
       "                        <td id=\"T_ec99f204_bc33_11eb_b972_c111eb40ff9arow10_col8\" class=\"data row10 col8\" >0.243383</td>\n",
       "                        <td id=\"T_ec99f204_bc33_11eb_b972_c111eb40ff9arow10_col9\" class=\"data row10 col9\" >-0.384914</td>\n",
       "                        <td id=\"T_ec99f204_bc33_11eb_b972_c111eb40ff9arow10_col10\" class=\"data row10 col10\" >1.000000</td>\n",
       "            </tr>\n",
       "    </tbody></table>"
      ],
      "text/plain": [
       "<pandas.io.formats.style.Styler at 0x7f8fd0e4e3d0>"
      ]
     },
     "execution_count": 37,
     "metadata": {},
     "output_type": "execute_result"
    }
   ],
   "source": [
    "import matplotlib.pyplot as plt\n",
    "\n",
    "corr = df_climate_change_train.corr()\n",
    "corr.style.background_gradient(cmap='coolwarm')"
   ]
  },
  {
   "cell_type": "markdown",
   "metadata": {},
   "source": [
    "1. Quais outras variáveis são muito correlacionadas com N2O (correlação > 0.7): Year, CO2, CH4, CFC-12 e Temp\n",
    "2. Quais outras variáveis são muito correlacionadas com CFC.11: CH4 e CFC-12"
   ]
  },
  {
   "cell_type": "markdown",
   "metadata": {
    "id": "CjsErl_2DMf9"
   },
   "source": [
    "## Problema 5\n",
    "\n",
    "Vamos simplificar o modelo e remover as variáveis muito correlacionadas. Crie um modelo com MEI, TSI, Aerosols e N2O. \n",
    "\n",
    "1. Qual o coeficiente do N2O nesse novo modelo?\n",
    "2. Qual o valor do $R^2$ ?"
   ]
  },
  {
   "cell_type": "code",
   "execution_count": 38,
   "metadata": {
    "id": "FPxGxhIMDtQW"
   },
   "outputs": [
    {
     "name": "stdout",
     "output_type": "stream",
     "text": [
      "                            OLS Regression Results                            \n",
      "==============================================================================\n",
      "Dep. Variable:                   Temp   R-squared:                       0.726\n",
      "Model:                            OLS   Adj. R-squared:                  0.722\n",
      "Method:                 Least Squares   F-statistic:                     184.9\n",
      "Date:                Sun, 23 May 2021   Prob (F-statistic):           3.52e-77\n",
      "Time:                        23:12:54   Log-Likelihood:                 266.64\n",
      "No. Observations:                 284   AIC:                            -523.3\n",
      "Df Residuals:                     279   BIC:                            -505.0\n",
      "Df Model:                           4                                         \n",
      "Covariance Type:            nonrobust                                         \n",
      "==============================================================================\n",
      "                 coef    std err          t      P>|t|      [0.025      0.975]\n",
      "------------------------------------------------------------------------------\n",
      "const       -116.2269     20.223     -5.747      0.000    -156.036     -76.418\n",
      "MEI            0.0642      0.007      9.649      0.000       0.051       0.077\n",
      "TSI            0.0795      0.015      5.344      0.000       0.050       0.109\n",
      "Aerosols      -1.7017      0.218     -7.806      0.000      -2.131      -1.273\n",
      "N2O            0.0253      0.001     19.307      0.000       0.023       0.028\n",
      "==============================================================================\n",
      "Omnibus:                       10.908   Durbin-Watson:                   0.842\n",
      "Prob(Omnibus):                  0.004   Jarque-Bera (JB):               15.097\n",
      "Skew:                           0.289   Prob(JB):                     0.000527\n",
      "Kurtosis:                       3.971   Cond. No.                     5.00e+06\n",
      "==============================================================================\n",
      "\n",
      "Notes:\n",
      "[1] Standard Errors assume that the covariance matrix of the errors is correctly specified.\n",
      "[2] The condition number is large,  5e+06. This might indicate that there are\n",
      "strong multicollinearity or other numerical problems.\n"
     ]
    }
   ],
   "source": [
    "X = df_climate_change_train[['MEI', 'TSI', 'Aerosols', 'N2O']]\n",
    "Y = df_climate_change_train[['Temp']]\n",
    "X = sm.add_constant(X)\n",
    "modelo_linear_climate_change_uncorrelated  = sm.OLS(Y, X)\n",
    "modelo_linear_climate_change_uncorrelated = modelo_linear_climate_change_uncorrelated.fit()\n",
    "print(modelo_linear_climate_change_uncorrelated.summary())"
   ]
  },
  {
   "cell_type": "markdown",
   "metadata": {},
   "source": [
    "Qual o coeficiente do N2O nesse novo modelo?\n",
    "R: 0.0253\n",
    "Qual o valor do  𝑅2  ?\n",
    "R: 0.726\n",
    "Isso indica que a regressão explica uma grande proporção da variância da variável resposta, mas ainda menor é explicada pela regressão, "
   ]
  },
  {
   "cell_type": "markdown",
   "metadata": {
    "id": "ItR6HoF7DwnZ"
   },
   "source": [
    "# Dados do PISA\n",
    "\n",
    "O Programme for International Student Assessment (PISA) é um teste feito no mundo todo a cada 3 anos para estudantes de 15 anos para avaliar a performance em matemática, leitura e ciências. A ideia do teste é fornecer uma maneira de comparar estudantes de diferentes partes do mundo. O objetivo dessa questão é prever as notas de leitura dos estudantes dos Estados Unidos para o PISA de 2009.\n",
    "\n",
    "O dataset [pisa2009train.csv](https://raw.githubusercontent.com/abnr/ml-data/main/pisa2009train.csv) e [pisa2009test.csv](https://raw.githubusercontent.com/abnr/ml-data/main/pisa2009test.csv) contem informação sobre demografia e escolas dos estudantes norte-americanos que fazem os exame, extraidos do dataset 2009 Pisa Public-Use Data Files distribuido pela United States National Center for Education Statistics (NCES). Esse dataset não possui informações que tornem possível a identificação dos estudantes.\n",
    " \n",
    "Cada linha do dataset pisa2009train.csv e pisa2009test.csv representa um estudante que fez a prova. Os datasets possuem as seguintes variáveis:\n",
    "\n",
    "* grade: A série do aluno na escola (a maior parte dos alunos está na 10ª) \n",
    "\n",
    "* male: Se o estudante é do sexo masculino (1/0)\n",
    "\n",
    "* raceeth: A raça/etnia do estudante.\n",
    "\n",
    "* preschool: Se o estudante cursou a pré-escola (1/0)\n",
    "\n",
    "* expectBachelors: Se o estudante espera fazer graduação superior (1/0)\n",
    "\n",
    "* motherHS: Se a mãe do estudante completou o ensino médio (1/0) \n",
    "\n",
    "* motherBachelors: Se a mãe do estudante completou a graduação superior (1/0)\n",
    "\n",
    "* motherWork: Se a mãe do estudante possui um emprego  (1/0)\n",
    "\n",
    "* fatherHS: Se o pai do estudante completou o ensino médio  (1/0)\n",
    "\n",
    "* fatherBachelors: Se o pai do estudante obteve graduação superior (1/0)\n",
    "\n",
    "* fatherWork: Se o pai do estudante possui um emprego (1/0)\n",
    "\n",
    "* selfBornUS: Se o estudante nasceu nos Estados Unidos (1/0)\n",
    "\n",
    "* motherBornUS: Se a mãe do estudante nasceu nos Estados Unidos (1/0)\n",
    "\n",
    "* fatherBornUS: Se o pai do estudante nasceu nos Estados Unidos (1/0)\n",
    "\n",
    "* englishAtHome: Se o estudante fala inglês em casa (1/0)\n",
    "\n",
    "* computerForSchoolwork: Se o estudante tem acesso a um computador para tarefas da escola (1/0)\n",
    "\n",
    "* read30MinsADay: Se o estudante lê por prazer 30 minutos/dia (1/0)\n",
    "\n",
    "* minutesPerWeekEnglish: Número de minutos que o estudante passa por semana em aulas de inglês\n",
    "\n",
    "* studentsInEnglish: Número de estudantes na sala de inglês da escola. \n",
    "\n",
    "* schoolHasLibrary: Se a escola do estudante possui uma biblioteca.  (1/0)\n",
    "\n",
    "* publicSchool: Se o estudante estuda em uma escola pública  (1/0)\n",
    "\n",
    "* urban: Se o estudante estuda em uma escola em uma área urbana  (1/0)\n",
    "\n",
    "* schoolSize: O número de estudante na escola \n",
    "\n",
    "* readingScore: A nota do estudante em leitura em uma escala de 1000 pontos. "
   ]
  },
  {
   "cell_type": "markdown",
   "metadata": {
    "id": "O0mQmDjQKeux"
   },
   "source": [
    "## Problema 1: Perguntas sobre o dataset:\n",
    "\n",
    "1. Quantos alunos tem no dataset?\n",
    "2. Qual a média da nota de leitura dos estudantes com valor de $male == 1$ e $male == 0$ ?\n",
    "3. Quais variáveis possuem valores faltantes?\n",
    "4. Escolha e explique uma estratégia para lidar com os valroes faltantes.\n",
    "5. Quais variáveis são nominais com pelo menos 3 possívels valores? Quais variáveis são ordinais com pelo menos 3 possívels valores?\n"
   ]
  },
  {
   "cell_type": "code",
   "execution_count": null,
   "metadata": {
    "id": "c1vcTzeDJcPJ"
   },
   "outputs": [],
   "source": []
  },
  {
   "cell_type": "markdown",
   "metadata": {
    "id": "9Bj5owr7NjSP"
   },
   "source": [
    "## Problema 2\n",
    "\n",
    "Crie um modelo de regressão com dados de treino e teste com o de testes. Use variáveis dummies para as variáveis categóricas. Qual o valor do $R^2$ e erro médio quadrático para o conjunto de treinamento ?"
   ]
  },
  {
   "cell_type": "code",
   "execution_count": null,
   "metadata": {
    "id": "LY7aBzEmObNr"
   },
   "outputs": [],
   "source": []
  },
  {
   "cell_type": "markdown",
   "metadata": {
    "id": "2HzmXugIOcIY"
   },
   "source": [
    "## Problema 3\n",
    "\n",
    "Considere dois estudantes A e B. Eles possuem todos os valores iguais exceto que o estudante A é da série 11 e o estudante B é da sala 9. Qual é a nota prevista para o estudante A menos a nota prevista para o estudante B ?"
   ]
  },
  {
   "cell_type": "code",
   "execution_count": null,
   "metadata": {
    "id": "KOk7uCuxPhoz"
   },
   "outputs": [],
   "source": []
  },
  {
   "cell_type": "markdown",
   "metadata": {
    "id": "kEnMCLv_Piof"
   },
   "source": [
    "## Problema 4\n",
    "\n",
    "Quais variáveis você considera que são candidatas para remoção do modelo?"
   ]
  },
  {
   "cell_type": "code",
   "execution_count": null,
   "metadata": {
    "id": "E9KALO4OQgdq"
   },
   "outputs": [],
   "source": []
  },
  {
   "cell_type": "markdown",
   "metadata": {
    "id": "2PsdMA-PQhEO"
   },
   "source": [
    "## Problema 5\n",
    "\n",
    "Use o dataset de treino para estimar as notas de alunos que não foram usados no treinamento. Qual o $R^2$ e RMSE para esse conjunto?"
   ]
  },
  {
   "cell_type": "code",
   "execution_count": null,
   "metadata": {
    "id": "feqS-LC66KDP"
   },
   "outputs": [],
   "source": []
  },
  {
   "cell_type": "markdown",
   "metadata": {
    "id": "Y4PcyPIE6NKy"
   },
   "source": [
    "# Dados do Google Flu\n",
    "\n",
    "A epidemia de gripe é um grande problema de saúde pública que causa um grande número de hospitalizações e mortes. De acordo com o National Vital Statistics Reports, publicado em outubro de 2012, influenza é a oitava causa de mortes em 2011 nos Estados Unidos. Para o mundo todo, a cada ano, morrem de 250000 à 500000 pessoas por ano de influenza.\n",
    "\n",
    "O Centro de Controle de Doenças (CDC) e o \n",
    "European Influenza Surveillance Scheme (EISS) detectam influenza através de dados clínicos, entretanto essas informações são publicadas com atraso de 1-2 semanas.\n",
    "\n",
    "O Google Flu Trends é um projeto que foi criado para testar se é possível identificar a quantidade de casos de gripe baseado na quantidade de buscas sobre o assunto, já que esse dado pode ser recuperado imediatamente.\n",
    "\n",
    "Nosso objetivo é estimar o número de doenças similares a influenza (influenza-like illness ILI) usando a informação das buscas do Google. \n",
    "\n",
    "Uma das fontes de dados, o Google Search Queries - Google Trends fornece a contagem semanal de buscas dos usuários do google ao redor do mundo. Para cada local, a contagem é normalizada dividindo a contadem de cada busca na semana pelo número total de buscas. Dessa forma os valores estão entre 0 e 1.\n",
    " \n",
    " O arquivo csv [FluTrain](https://raw.githubusercontent.com/abnr/ml-data/main/FluTrain.csv) agrega os dois dados de Janeiro de 2004 até Dezembro de 2011, com as colunas:\n",
    "\n",
    "\"Week\" - A faixa de datas a qual a observação foi feita, no formato ano/mes/dia.\n",
    "\n",
    "\"ILI\" - A porcentagem de casos de ILI reportados na semana.\n",
    "\n",
    "\"Queries\" - A fração das buscas de ILI naquela semana.\n",
    "\n",
    "\n",
    "\n",
    "\n"
   ]
  },
  {
   "cell_type": "markdown",
   "metadata": {
    "id": "ezT3n0S8Hap4"
   },
   "source": [
    "## Problema 1\n",
    "\n",
    "Verifique se ILI segue uma distribuição normal. Caso não seja normal, utilize alguma estratégia para transformar esses dados.\n",
    "\n"
   ]
  },
  {
   "cell_type": "code",
   "execution_count": null,
   "metadata": {
    "id": "PXE4Uh1xHRKG"
   },
   "outputs": [],
   "source": []
  },
  {
   "cell_type": "markdown",
   "metadata": {
    "id": "PHdsZDTAHcqI"
   },
   "source": [
    "## Problema 2\n",
    "\n",
    "Ajuste um modelo de regressão linear e calcule o $R^2$.\n",
    "\n"
   ]
  },
  {
   "cell_type": "code",
   "execution_count": null,
   "metadata": {
    "id": "kH0hfrF8HeXX"
   },
   "outputs": [],
   "source": []
  },
  {
   "cell_type": "markdown",
   "metadata": {
    "id": "FGXuYRznHeny"
   },
   "source": [
    "## Problema 3\n",
    "\n",
    "O arquivo [FluTest.csv](https://raw.githubusercontent.com/abnr/ml-data/main/FluTest.csv) contem os dados de 2012, utilize esses dados para teste. Calcule as métricas de erro para esse dataset e faça a análise residual.\n",
    "\n",
    "\n"
   ]
  },
  {
   "cell_type": "code",
   "execution_count": null,
   "metadata": {
    "id": "yHhSqp75Hgr1"
   },
   "outputs": [],
   "source": []
  },
  {
   "cell_type": "markdown",
   "metadata": {
    "id": "WYOD69jaHg6m"
   },
   "source": [
    "## Problema 4\n",
    "\n",
    "Crie uma nova variável usando a coluna ILI com lag de 2. Utilize essa variável, além das buscas do google como entrada. Treine o modelo de regressão, refaça análise residual e verifique quais variáveis foram significativas. Compare as métricas de erro do dataset de teste desse modelo com o modelo anterior."
   ]
  },
  {
   "cell_type": "code",
   "execution_count": null,
   "metadata": {
    "id": "zy2ealD_Hhlp"
   },
   "outputs": [],
   "source": []
  },
  {
   "cell_type": "markdown",
   "metadata": {
    "id": "XxDzMM4SQ1vU"
   },
   "source": [
    "# Baseball\n",
    "\n",
    "Vamos usar o [dataset de baseball](https://raw.githubusercontent.com/abnr/ml-data/main/baseball.csv) para tentar prever quem vai ser o campeão da temporada. Esse dataset é composto pelas variáveis:\n",
    "\n",
    "* Team: O código para o nome do time.\n",
    "* League: A liga que o time pertence, pode ser AL ou NL\n",
    "* Year: Ano do registro\n",
    "* RS: o número de runs do time no ano.\n",
    "* RA: O número de runs permitidos pelo time no ano.\n",
    "* W: O número de vitórias na temporada \n",
    "* OBP: A porcentagem de 'on-base' \n",
    "* SLG: A slugging percentage do time no ano\n",
    "* BA: A batting average do time no ano\n",
    "* Playoffs: Se o time foi ou não para os playoffs\n",
    "* RankSeason: Entre os times no playoff o rank final dele no ano.\n",
    "* RankPlayoffs: O rank do time no playoff. O campeão tem rank 1.\n",
    "* G: O número de partidas jogadas no ano.\n",
    "* OOBP: A porcentagem de 'on-base' dos oponentes do ano.\n",
    "* OSLG: A slugging percentage dos oponentes no ano.\n"
   ]
  },
  {
   "cell_type": "markdown",
   "metadata": {
    "id": "xQvyKORQIfvb"
   },
   "source": [
    "## Problema 1\n",
    "\n",
    "Use o rank final dos Playoffs para modelar um classficador para identificar o campeão daquele ano. Selecione e justifique as variáveis e compare os modelos."
   ]
  },
  {
   "cell_type": "code",
   "execution_count": null,
   "metadata": {
    "id": "VlRMIGHVJG_A"
   },
   "outputs": [],
   "source": []
  }
 ],
 "metadata": {
  "colab": {
   "name": "Desafio_2_Exercícios_Regressão.ipynb",
   "provenance": [],
   "toc_visible": true
  },
  "kernelspec": {
   "display_name": "Python 3",
   "language": "python",
   "name": "python3"
  },
  "language_info": {
   "codemirror_mode": {
    "name": "ipython",
    "version": 3
   },
   "file_extension": ".py",
   "mimetype": "text/x-python",
   "name": "python",
   "nbconvert_exporter": "python",
   "pygments_lexer": "ipython3",
   "version": "3.8.5"
  }
 },
 "nbformat": 4,
 "nbformat_minor": 1
}
