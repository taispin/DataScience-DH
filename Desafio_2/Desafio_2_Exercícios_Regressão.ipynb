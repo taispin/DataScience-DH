{
  "nbformat": 4,
  "nbformat_minor": 0,
  "metadata": {
    "colab": {
      "name": "Desafio_2_Exercícios_Regressão.ipynb",
      "provenance": [],
      "toc_visible": true
    },
    "kernelspec": {
      "name": "python3",
      "display_name": "Python 3"
    },
    "language_info": {
      "name": "python"
    }
  },
  "cells": [
    {
      "cell_type": "markdown",
      "metadata": {
        "id": "DRQHq7An9Svv"
      },
      "source": [
        "# Mudanças Climáticas\n",
        "\n",
        "Nesse problemas vamos estudar a relação entre algumas variáveis e a temperatura. O arquivo [climate_change.csv](https://raw.githubusercontent.com/abnr/ml-data/main/climate_change.csv) tem dados climáticos de Maio de 1983 até Dezembro de 2008, com a variáveis:\n",
        "\n",
        "* Year: o ano da observação.\n",
        "* Month: o mês da observação.\n",
        "* Temperature: a diferença em graus Celsius entre a média global de temperatura naquele período e um valor de referência. Dado proveniente da [Climatic Research Unit at the University of East Anglia](https://sites.uea.ac.uk/cru/).\n",
        "* CO2, N2O, CH4, CFC.11, CFC.12: concentração atmosférica de dióxido de carbono (CO2), óxido nitroso (N2O), metano (CH4), triclorofluormetano (CCl3F, conhecido como CFC-11) e diclorofluormetano (CCl2F2, conhecido como CFC-12). Esses dados foram coletados da  [ESRL/NOAA Global Monitoring Division](http://www.esrl.noaa.gov/gmd/ccgg/data-products.html).\n",
        "* Aerosols:  a media da profundidade óptica do aerosol estratosférico à 500 nm. Essa variável é ligada com a atividade vulcânica, já que essa atividade lança partículas na atmosfera que afetam o quanto da energia do sol é refletida novamente para o espaço. Esse dado é do [Godard Institute for Space Studies at NASA](http://data.giss.nasa.gov/modelforce/strataer/).\n",
        "* TSI: o total da irradiãncia solar em W/m2 (a quantidade de energia solar depositada por unidade de área). Devido a manchas solares e outros fenômenos solares, essa quantidade de energia pode variar com o tempo. Dado proveniente do [SOLARIS-HEPPA](http://solarisheppa.geomar.de/solarisheppa/cmip5).\n",
        "* MEI: multivariate El Nino Southern Oscillation index (MEI), uma medida de força do El Nino/La Nina. Dado do [ESRL/NOAA Physical Sciences Division](https://www.esrl.noaa.gov/psd/).\n",
        "\n"
      ]
    },
    {
      "cell_type": "markdown",
      "metadata": {
        "id": "oLK7QqG_H383"
      },
      "source": [
        "## Problema 1\n",
        "\n",
        "Nos estamos interessados em saber como alterações nessas variáveis afetam as temperaturas futuras e como essas variáveis explicam as mudanças na temperatura. Para fazer isso, leia o dataset, divida em um dataset para treino usando dados até 2006 (incluso). O dataset de treino é aquele que vai ser usado para encontrar os parâmetros do modelo. \n",
        "\n",
        "Crie um modelo de regressão para prever Temp usando MEI, CO2, CH4, N2), CFC.11, CFC.12, TSI e Aerosol (Não use ano e mês).\n",
        "\n",
        "Qual o valor de $R^2$ que você encontrou?"
      ]
    },
    {
      "cell_type": "code",
      "metadata": {
        "id": "CCr3jlJ09PY5"
      },
      "source": [
        ""
      ],
      "execution_count": null,
      "outputs": []
    },
    {
      "cell_type": "markdown",
      "metadata": {
        "id": "fHBFStnqAT3l"
      },
      "source": [
        "## Problema 2\n",
        "\n",
        "Quais variáveis foram significativas?"
      ]
    },
    {
      "cell_type": "code",
      "metadata": {
        "id": "jM7UWXxaBI3w"
      },
      "source": [
        ""
      ],
      "execution_count": null,
      "outputs": []
    },
    {
      "cell_type": "markdown",
      "metadata": {
        "id": "_CGItWg9BJfd"
      },
      "source": [
        "## Problema 3\n",
        "\n",
        "A opinião científica atual é que N20 e CFC-11 são gases de efeito estufa. Entretanto os coeficientes dessas variáveis na regressão deram negativos, indicando que o aumento da concentração desses gases estariam associadas com baixas temperaturas. \n",
        "\n",
        "Qual a explicação para essa contradição?"
      ]
    },
    {
      "cell_type": "markdown",
      "metadata": {
        "id": "iLNrIiDyCDHM"
      },
      "source": [
        ""
      ]
    },
    {
      "cell_type": "markdown",
      "metadata": {
        "id": "Qny1SyTXCDg5"
      },
      "source": [
        "## Problema 4\n",
        "\n",
        "Calcule a correlação entre todas as variáveis do conjunto de treinamento. \n",
        "\n",
        "1. Quais outras variáveis são muito correlacionadas com N2O (correlação > 0.7) ? \n",
        "2. Quais outras variáveis são muito correlacionadas com CFC.11 ?"
      ]
    },
    {
      "cell_type": "code",
      "metadata": {
        "id": "9SV7cdk7DMOq"
      },
      "source": [
        ""
      ],
      "execution_count": null,
      "outputs": []
    },
    {
      "cell_type": "markdown",
      "metadata": {
        "id": "CjsErl_2DMf9"
      },
      "source": [
        "## Problema 5\n",
        "\n",
        "Vamos simplificar o modelo e remover as variáveis muito correlacionadas. Crie um modelo com MEI, TSI, Aerosols e N2O. \n",
        "\n",
        "1. Qual o coeficiente do N2O nesse novo modelo?\n",
        "2. Qual o valor do $R^2$ ?"
      ]
    },
    {
      "cell_type": "code",
      "metadata": {
        "id": "FPxGxhIMDtQW"
      },
      "source": [
        ""
      ],
      "execution_count": null,
      "outputs": []
    },
    {
      "cell_type": "markdown",
      "metadata": {
        "id": "ItR6HoF7DwnZ"
      },
      "source": [
        "# Dados do PISA\n",
        "\n",
        "O Programme for International Student Assessment (PISA) é um teste feito no mundo todo a cada 3 anos para estudantes de 15 anos para avaliar a performance em matemática, leitura e ciências. A ideia do teste é fornecer uma maneira de comparar estudantes de diferentes partes do mundo. O objetivo dessa questão é prever as notas de leitura dos estudantes dos Estados Unidos para o PISA de 2009.\n",
        "\n",
        "O dataset [pisa2009train.csv](https://raw.githubusercontent.com/abnr/ml-data/main/pisa2009train.csv) e [pisa2009test.csv](https://raw.githubusercontent.com/abnr/ml-data/main/pisa2009test.csv) contem informação sobre demografia e escolas dos estudantes norte-americanos que fazem os exame, extraidos do dataset 2009 Pisa Public-Use Data Files distribuido pela United States National Center for Education Statistics (NCES). Esse dataset não possui informações que tornem possível a identificação dos estudantes.\n",
        " \n",
        "Cada linha do dataset pisa2009train.csv e pisa2009test.csv representa um estudante que fez a prova. Os datasets possuem as seguintes variáveis:\n",
        "\n",
        "* grade: A série do aluno na escola (a maior parte dos alunos está na 10ª) \n",
        "\n",
        "* male: Se o estudante é do sexo masculino (1/0)\n",
        "\n",
        "* raceeth: A raça/etnia do estudante.\n",
        "\n",
        "* preschool: Se o estudante cursou a pré-escola (1/0)\n",
        "\n",
        "* expectBachelors: Se o estudante espera fazer graduação superior (1/0)\n",
        "\n",
        "* motherHS: Se a mãe do estudante completou o ensino médio (1/0) \n",
        "\n",
        "* motherBachelors: Se a mãe do estudante completou a graduação superior (1/0)\n",
        "\n",
        "* motherWork: Se a mãe do estudante possui um emprego  (1/0)\n",
        "\n",
        "* fatherHS: Se o pai do estudante completou o ensino médio  (1/0)\n",
        "\n",
        "* fatherBachelors: Se o pai do estudante obteve graduação superior (1/0)\n",
        "\n",
        "* fatherWork: Se o pai do estudante possui um emprego (1/0)\n",
        "\n",
        "* selfBornUS: Se o estudante nasceu nos Estados Unidos (1/0)\n",
        "\n",
        "* motherBornUS: Se a mãe do estudante nasceu nos Estados Unidos (1/0)\n",
        "\n",
        "* fatherBornUS: Se o pai do estudante nasceu nos Estados Unidos (1/0)\n",
        "\n",
        "* englishAtHome: Se o estudante fala inglês em casa (1/0)\n",
        "\n",
        "* computerForSchoolwork: Se o estudante tem acesso a um computador para tarefas da escola (1/0)\n",
        "\n",
        "* read30MinsADay: Se o estudante lê por prazer 30 minutos/dia (1/0)\n",
        "\n",
        "* minutesPerWeekEnglish: Número de minutos que o estudante passa por semana em aulas de inglês\n",
        "\n",
        "* studentsInEnglish: Número de estudantes na sala de inglês da escola. \n",
        "\n",
        "* schoolHasLibrary: Se a escola do estudante possui uma biblioteca.  (1/0)\n",
        "\n",
        "* publicSchool: Se o estudante estuda em uma escola pública  (1/0)\n",
        "\n",
        "* urban: Se o estudante estuda em uma escola em uma área urbana  (1/0)\n",
        "\n",
        "* schoolSize: O número de estudante na escola \n",
        "\n",
        "* readingScore: A nota do estudante em leitura em uma escala de 1000 pontos. "
      ]
    },
    {
      "cell_type": "markdown",
      "metadata": {
        "id": "O0mQmDjQKeux"
      },
      "source": [
        "## Problema 1: Perguntas sobre o dataset:\n",
        "\n",
        "1. Quantos alunos tem no dataset?\n",
        "2. Qual a média da nota de leitura dos estudantes com valor de $male == 1$ e $male == 0$ ?\n",
        "3. Quais variáveis possuem valores faltantes?\n",
        "4. Escolha e explique uma estratégia para lidar com os valroes faltantes.\n",
        "5. Quais variáveis são nominais com pelo menos 3 possívels valores? Quais variáveis são ordinais com pelo menos 3 possívels valores?\n"
      ]
    },
    {
      "cell_type": "code",
      "metadata": {
        "id": "c1vcTzeDJcPJ"
      },
      "source": [
        ""
      ],
      "execution_count": null,
      "outputs": []
    },
    {
      "cell_type": "markdown",
      "metadata": {
        "id": "9Bj5owr7NjSP"
      },
      "source": [
        "## Problema 2\n",
        "\n",
        "Crie um modelo de regressão com dados de treino e teste com o de testes. Use variáveis dummies para as variáveis categóricas. Qual o valor do $R^2$ e erro médio quadrático para o conjunto de treinamento ?"
      ]
    },
    {
      "cell_type": "code",
      "metadata": {
        "id": "LY7aBzEmObNr"
      },
      "source": [
        ""
      ],
      "execution_count": null,
      "outputs": []
    },
    {
      "cell_type": "markdown",
      "metadata": {
        "id": "2HzmXugIOcIY"
      },
      "source": [
        "## Problema 3\n",
        "\n",
        "Considere dois estudantes A e B. Eles possuem todos os valores iguais exceto que o estudante A é da série 11 e o estudante B é da sala 9. Qual é a nota prevista para o estudante A menos a nota prevista para o estudante B ?"
      ]
    },
    {
      "cell_type": "code",
      "metadata": {
        "id": "KOk7uCuxPhoz"
      },
      "source": [
        ""
      ],
      "execution_count": null,
      "outputs": []
    },
    {
      "cell_type": "markdown",
      "metadata": {
        "id": "kEnMCLv_Piof"
      },
      "source": [
        "## Problema 4\n",
        "\n",
        "Quais variáveis você considera que são candidatas para remoção do modelo?"
      ]
    },
    {
      "cell_type": "code",
      "metadata": {
        "id": "E9KALO4OQgdq"
      },
      "source": [
        ""
      ],
      "execution_count": null,
      "outputs": []
    },
    {
      "cell_type": "markdown",
      "metadata": {
        "id": "2PsdMA-PQhEO"
      },
      "source": [
        "## Problema 5\n",
        "\n",
        "Use o dataset de treino para estimar as notas de alunos que não foram usados no treinamento. Qual o $R^2$ e RMSE para esse conjunto?"
      ]
    },
    {
      "cell_type": "code",
      "metadata": {
        "id": "feqS-LC66KDP"
      },
      "source": [
        ""
      ],
      "execution_count": null,
      "outputs": []
    },
    {
      "cell_type": "markdown",
      "metadata": {
        "id": "Y4PcyPIE6NKy"
      },
      "source": [
        "# Dados do Google Flu\n",
        "\n",
        "A epidemia de gripe é um grande problema de saúde pública que causa um grande número de hospitalizações e mortes. De acordo com o National Vital Statistics Reports, publicado em outubro de 2012, influenza é a oitava causa de mortes em 2011 nos Estados Unidos. Para o mundo todo, a cada ano, morrem de 250000 à 500000 pessoas por ano de influenza.\n",
        "\n",
        "O Centro de Controle de Doenças (CDC) e o \n",
        "European Influenza Surveillance Scheme (EISS) detectam influenza através de dados clínicos, entretanto essas informações são publicadas com atraso de 1-2 semanas.\n",
        "\n",
        "O Google Flu Trends é um projeto que foi criado para testar se é possível identificar a quantidade de casos de gripe baseado na quantidade de buscas sobre o assunto, já que esse dado pode ser recuperado imediatamente.\n",
        "\n",
        "Nosso objetivo é estimar o número de doenças similares a influenza (influenza-like illness ILI) usando a informação das buscas do Google. \n",
        "\n",
        "Uma das fontes de dados, o Google Search Queries - Google Trends fornece a contagem semanal de buscas dos usuários do google ao redor do mundo. Para cada local, a contagem é normalizada dividindo a contadem de cada busca na semana pelo número total de buscas. Dessa forma os valores estão entre 0 e 1.\n",
        " \n",
        " O arquivo csv [FluTrain](https://raw.githubusercontent.com/abnr/ml-data/main/FluTrain.csv) agrega os dois dados de Janeiro de 2004 até Dezembro de 2011, com as colunas:\n",
        "\n",
        "\"Week\" - A faixa de datas a qual a observação foi feita, no formato ano/mes/dia.\n",
        "\n",
        "\"ILI\" - A porcentagem de casos de ILI reportados na semana.\n",
        "\n",
        "\"Queries\" - A fração das buscas de ILI naquela semana.\n",
        "\n",
        "\n",
        "\n",
        "\n"
      ]
    },
    {
      "cell_type": "markdown",
      "metadata": {
        "id": "ezT3n0S8Hap4"
      },
      "source": [
        "## Problema 1\n",
        "\n",
        "Verifique se ILI segue uma distribuição normal. Caso não seja normal, utilize alguma estratégia para transformar esses dados.\n",
        "\n"
      ]
    },
    {
      "cell_type": "code",
      "metadata": {
        "id": "PXE4Uh1xHRKG"
      },
      "source": [
        ""
      ],
      "execution_count": null,
      "outputs": []
    },
    {
      "cell_type": "markdown",
      "metadata": {
        "id": "PHdsZDTAHcqI"
      },
      "source": [
        "## Problema 2\n",
        "\n",
        "Ajuste um modelo de regressão linear e calcule o $R^2$.\n",
        "\n"
      ]
    },
    {
      "cell_type": "code",
      "metadata": {
        "id": "kH0hfrF8HeXX"
      },
      "source": [
        ""
      ],
      "execution_count": null,
      "outputs": []
    },
    {
      "cell_type": "markdown",
      "metadata": {
        "id": "FGXuYRznHeny"
      },
      "source": [
        "## Problema 3\n",
        "\n",
        "O arquivo [FluTest.csv](https://raw.githubusercontent.com/abnr/ml-data/main/FluTest.csv) contem os dados de 2012, utilize esses dados para teste. Calcule as métricas de erro para esse dataset e faça a análise residual.\n",
        "\n",
        "\n"
      ]
    },
    {
      "cell_type": "code",
      "metadata": {
        "id": "yHhSqp75Hgr1"
      },
      "source": [
        ""
      ],
      "execution_count": null,
      "outputs": []
    },
    {
      "cell_type": "markdown",
      "metadata": {
        "id": "WYOD69jaHg6m"
      },
      "source": [
        "## Problema 4\n",
        "\n",
        "Crie uma nova variável usando a coluna ILI com lag de 2. Utilize essa variável, além das buscas do google como entrada. Treine o modelo de regressão, refaça análise residual e verifique quais variáveis foram significativas. Compare as métricas de erro do dataset de teste desse modelo com o modelo anterior."
      ]
    },
    {
      "cell_type": "code",
      "metadata": {
        "id": "zy2ealD_Hhlp"
      },
      "source": [
        ""
      ],
      "execution_count": null,
      "outputs": []
    },
    {
      "cell_type": "markdown",
      "metadata": {
        "id": "XxDzMM4SQ1vU"
      },
      "source": [
        "# Baseball\n",
        "\n",
        "Vamos usar o [dataset de baseball](https://raw.githubusercontent.com/abnr/ml-data/main/baseball.csv) para tentar prever quem vai ser o campeão da temporada. Esse dataset é composto pelas variáveis:\n",
        "\n",
        "* Team: O código para o nome do time.\n",
        "* League: A liga que o time pertence, pode ser AL ou NL\n",
        "* Year: Ano do registro\n",
        "* RS: o número de runs do time no ano.\n",
        "* RA: O número de runs permitidos pelo time no ano.\n",
        "* W: O número de vitórias na temporada \n",
        "* OBP: A porcentagem de 'on-base' \n",
        "* SLG: A slugging percentage do time no ano\n",
        "* BA: A batting average do time no ano\n",
        "* Playoffs: Se o time foi ou não para os playoffs\n",
        "* RankSeason: Entre os times no playoff o rank final dele no ano.\n",
        "* RankPlayoffs: O rank do time no playoff. O campeão tem rank 1.\n",
        "* G: O número de partidas jogadas no ano.\n",
        "* OOBP: A porcentagem de 'on-base' dos oponentes do ano.\n",
        "* OSLG: A slugging percentage dos oponentes no ano.\n"
      ]
    },
    {
      "cell_type": "markdown",
      "metadata": {
        "id": "xQvyKORQIfvb"
      },
      "source": [
        "## Problema 1\n",
        "\n",
        "Use o rank final dos Playoffs para modelar um classficador para identificar o campeão daquele ano. Selecione e justifique as variáveis e compare os modelos."
      ]
    },
    {
      "cell_type": "code",
      "metadata": {
        "id": "VlRMIGHVJG_A"
      },
      "source": [
        ""
      ],
      "execution_count": null,
      "outputs": []
    }
  ]
}