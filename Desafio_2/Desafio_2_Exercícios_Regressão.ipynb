{
 "cells": [
  {
   "cell_type": "markdown",
   "metadata": {
    "id": "DRQHq7An9Svv"
   },
   "source": [
    "# Mudanças Climáticas\n",
    "\n",
    "Nesse problemas vamos estudar a relação entre algumas variáveis e a temperatura. O arquivo [climate_change.csv](https://raw.githubusercontent.com/abnr/ml-data/main/climate_change.csv) tem dados climáticos de Maio de 1983 até Dezembro de 2008, com a variáveis:\n",
    "\n",
    "* Year: o ano da observação.\n",
    "* Month: o mês da observação.\n",
    "* Temperature: a diferença em graus Celsius entre a média global de temperatura naquele período e um valor de referência. Dado proveniente da [Climatic Research Unit at the University of East Anglia](https://sites.uea.ac.uk/cru/).\n",
    "* CO2, N2O, CH4, CFC.11, CFC.12: concentração atmosférica de dióxido de carbono (CO2), óxido nitroso (N2O), metano (CH4), triclorofluormetano (CCl3F, conhecido como CFC-11) e diclorofluormetano (CCl2F2, conhecido como CFC-12). Esses dados foram coletados da  [ESRL/NOAA Global Monitoring Division](http://www.esrl.noaa.gov/gmd/ccgg/data-products.html).\n",
    "* Aerosols:  a media da profundidade óptica do aerosol estratosférico à 500 nm. Essa variável é ligada com a atividade vulcânica, já que essa atividade lança partículas na atmosfera que afetam o quanto da energia do sol é refletida novamente para o espaço. Esse dado é do [Godard Institute for Space Studies at NASA](http://data.giss.nasa.gov/modelforce/strataer/).\n",
    "* TSI: o total da irradiãncia solar em W/m2 (a quantidade de energia solar depositada por unidade de área). Devido a manchas solares e outros fenômenos solares, essa quantidade de energia pode variar com o tempo. Dado proveniente do [SOLARIS-HEPPA](http://solarisheppa.geomar.de/solarisheppa/cmip5).\n",
    "* MEI: multivariate El Nino Southern Oscillation index (MEI), uma medida de força do El Nino/La Nina. Dado do [ESRL/NOAA Physical Sciences Division](https://www.esrl.noaa.gov/psd/).\n",
    "\n"
   ]
  },
  {
   "cell_type": "code",
   "execution_count": 1,
   "metadata": {},
   "outputs": [],
   "source": [
    "#Libraries import\n",
    "import pandas as pd\n",
    "import numpy as np\n",
    "import statsmodels.api as sm\n",
    "import matplotlib.pyplot as plt"
   ]
  },
  {
   "cell_type": "markdown",
   "metadata": {
    "id": "oLK7QqG_H383"
   },
   "source": [
    "## Problema 1\n",
    "\n",
    "Nos estamos interessados em saber como alterações nessas variáveis afetam as temperaturas futuras e como essas variáveis explicam as mudanças na temperatura. Para fazer isso, leia o dataset, divida em um dataset para treino usando dados até 2006 (incluso). O dataset de treino é aquele que vai ser usado para encontrar os parâmetros do modelo. \n",
    "\n",
    "Crie um modelo de regressão para prever Temp usando MEI, CO2, CH4, N2), CFC.11, CFC.12, TSI e Aerosol (Não use ano e mês).\n",
    "\n",
    "Qual o valor de $R^2$ que você encontrou?"
   ]
  },
  {
   "cell_type": "code",
   "execution_count": 3,
   "metadata": {
    "id": "CCr3jlJ09PY5"
   },
   "outputs": [
    {
     "data": {
      "text/html": [
       "<div>\n",
       "<style scoped>\n",
       "    .dataframe tbody tr th:only-of-type {\n",
       "        vertical-align: middle;\n",
       "    }\n",
       "\n",
       "    .dataframe tbody tr th {\n",
       "        vertical-align: top;\n",
       "    }\n",
       "\n",
       "    .dataframe thead th {\n",
       "        text-align: right;\n",
       "    }\n",
       "</style>\n",
       "<table border=\"1\" class=\"dataframe\">\n",
       "  <thead>\n",
       "    <tr style=\"text-align: right;\">\n",
       "      <th></th>\n",
       "      <th>Year</th>\n",
       "      <th>Month</th>\n",
       "      <th>MEI</th>\n",
       "      <th>CO2</th>\n",
       "      <th>CH4</th>\n",
       "      <th>N2O</th>\n",
       "      <th>CFC-11</th>\n",
       "      <th>CFC-12</th>\n",
       "      <th>TSI</th>\n",
       "      <th>Aerosols</th>\n",
       "      <th>Temp</th>\n",
       "    </tr>\n",
       "  </thead>\n",
       "  <tbody>\n",
       "    <tr>\n",
       "      <th>0</th>\n",
       "      <td>1983</td>\n",
       "      <td>5</td>\n",
       "      <td>2.556</td>\n",
       "      <td>345.96</td>\n",
       "      <td>1638.59</td>\n",
       "      <td>303.677</td>\n",
       "      <td>191.324</td>\n",
       "      <td>350.113</td>\n",
       "      <td>1366.1024</td>\n",
       "      <td>0.0863</td>\n",
       "      <td>0.109</td>\n",
       "    </tr>\n",
       "    <tr>\n",
       "      <th>1</th>\n",
       "      <td>1983</td>\n",
       "      <td>6</td>\n",
       "      <td>2.167</td>\n",
       "      <td>345.52</td>\n",
       "      <td>1633.71</td>\n",
       "      <td>303.746</td>\n",
       "      <td>192.057</td>\n",
       "      <td>351.848</td>\n",
       "      <td>1366.1208</td>\n",
       "      <td>0.0794</td>\n",
       "      <td>0.118</td>\n",
       "    </tr>\n",
       "    <tr>\n",
       "      <th>2</th>\n",
       "      <td>1983</td>\n",
       "      <td>7</td>\n",
       "      <td>1.741</td>\n",
       "      <td>344.15</td>\n",
       "      <td>1633.22</td>\n",
       "      <td>303.795</td>\n",
       "      <td>192.818</td>\n",
       "      <td>353.725</td>\n",
       "      <td>1366.2850</td>\n",
       "      <td>0.0731</td>\n",
       "      <td>0.137</td>\n",
       "    </tr>\n",
       "    <tr>\n",
       "      <th>3</th>\n",
       "      <td>1983</td>\n",
       "      <td>8</td>\n",
       "      <td>1.130</td>\n",
       "      <td>342.25</td>\n",
       "      <td>1631.35</td>\n",
       "      <td>303.839</td>\n",
       "      <td>193.602</td>\n",
       "      <td>355.633</td>\n",
       "      <td>1366.4202</td>\n",
       "      <td>0.0673</td>\n",
       "      <td>0.176</td>\n",
       "    </tr>\n",
       "    <tr>\n",
       "      <th>4</th>\n",
       "      <td>1983</td>\n",
       "      <td>9</td>\n",
       "      <td>0.428</td>\n",
       "      <td>340.17</td>\n",
       "      <td>1648.40</td>\n",
       "      <td>303.901</td>\n",
       "      <td>194.392</td>\n",
       "      <td>357.465</td>\n",
       "      <td>1366.2335</td>\n",
       "      <td>0.0619</td>\n",
       "      <td>0.149</td>\n",
       "    </tr>\n",
       "    <tr>\n",
       "      <th>...</th>\n",
       "      <td>...</td>\n",
       "      <td>...</td>\n",
       "      <td>...</td>\n",
       "      <td>...</td>\n",
       "      <td>...</td>\n",
       "      <td>...</td>\n",
       "      <td>...</td>\n",
       "      <td>...</td>\n",
       "      <td>...</td>\n",
       "      <td>...</td>\n",
       "      <td>...</td>\n",
       "    </tr>\n",
       "    <tr>\n",
       "      <th>303</th>\n",
       "      <td>2008</td>\n",
       "      <td>8</td>\n",
       "      <td>-0.266</td>\n",
       "      <td>384.15</td>\n",
       "      <td>1779.88</td>\n",
       "      <td>321.405</td>\n",
       "      <td>244.200</td>\n",
       "      <td>535.072</td>\n",
       "      <td>1365.6570</td>\n",
       "      <td>0.0036</td>\n",
       "      <td>0.407</td>\n",
       "    </tr>\n",
       "    <tr>\n",
       "      <th>304</th>\n",
       "      <td>2008</td>\n",
       "      <td>9</td>\n",
       "      <td>-0.643</td>\n",
       "      <td>383.09</td>\n",
       "      <td>1795.08</td>\n",
       "      <td>321.529</td>\n",
       "      <td>244.083</td>\n",
       "      <td>535.048</td>\n",
       "      <td>1365.6647</td>\n",
       "      <td>0.0043</td>\n",
       "      <td>0.378</td>\n",
       "    </tr>\n",
       "    <tr>\n",
       "      <th>305</th>\n",
       "      <td>2008</td>\n",
       "      <td>10</td>\n",
       "      <td>-0.780</td>\n",
       "      <td>382.99</td>\n",
       "      <td>1814.18</td>\n",
       "      <td>321.796</td>\n",
       "      <td>244.080</td>\n",
       "      <td>534.927</td>\n",
       "      <td>1365.6759</td>\n",
       "      <td>0.0046</td>\n",
       "      <td>0.440</td>\n",
       "    </tr>\n",
       "    <tr>\n",
       "      <th>306</th>\n",
       "      <td>2008</td>\n",
       "      <td>11</td>\n",
       "      <td>-0.621</td>\n",
       "      <td>384.13</td>\n",
       "      <td>1812.37</td>\n",
       "      <td>322.013</td>\n",
       "      <td>244.225</td>\n",
       "      <td>534.906</td>\n",
       "      <td>1365.7065</td>\n",
       "      <td>0.0048</td>\n",
       "      <td>0.394</td>\n",
       "    </tr>\n",
       "    <tr>\n",
       "      <th>307</th>\n",
       "      <td>2008</td>\n",
       "      <td>12</td>\n",
       "      <td>-0.666</td>\n",
       "      <td>385.56</td>\n",
       "      <td>1812.88</td>\n",
       "      <td>322.182</td>\n",
       "      <td>244.204</td>\n",
       "      <td>535.005</td>\n",
       "      <td>1365.6926</td>\n",
       "      <td>0.0046</td>\n",
       "      <td>0.330</td>\n",
       "    </tr>\n",
       "  </tbody>\n",
       "</table>\n",
       "<p>308 rows × 11 columns</p>\n",
       "</div>"
      ],
      "text/plain": [
       "     Year  Month    MEI     CO2      CH4      N2O   CFC-11   CFC-12  \\\n",
       "0    1983      5  2.556  345.96  1638.59  303.677  191.324  350.113   \n",
       "1    1983      6  2.167  345.52  1633.71  303.746  192.057  351.848   \n",
       "2    1983      7  1.741  344.15  1633.22  303.795  192.818  353.725   \n",
       "3    1983      8  1.130  342.25  1631.35  303.839  193.602  355.633   \n",
       "4    1983      9  0.428  340.17  1648.40  303.901  194.392  357.465   \n",
       "..    ...    ...    ...     ...      ...      ...      ...      ...   \n",
       "303  2008      8 -0.266  384.15  1779.88  321.405  244.200  535.072   \n",
       "304  2008      9 -0.643  383.09  1795.08  321.529  244.083  535.048   \n",
       "305  2008     10 -0.780  382.99  1814.18  321.796  244.080  534.927   \n",
       "306  2008     11 -0.621  384.13  1812.37  322.013  244.225  534.906   \n",
       "307  2008     12 -0.666  385.56  1812.88  322.182  244.204  535.005   \n",
       "\n",
       "           TSI  Aerosols   Temp  \n",
       "0    1366.1024    0.0863  0.109  \n",
       "1    1366.1208    0.0794  0.118  \n",
       "2    1366.2850    0.0731  0.137  \n",
       "3    1366.4202    0.0673  0.176  \n",
       "4    1366.2335    0.0619  0.149  \n",
       "..         ...       ...    ...  \n",
       "303  1365.6570    0.0036  0.407  \n",
       "304  1365.6647    0.0043  0.378  \n",
       "305  1365.6759    0.0046  0.440  \n",
       "306  1365.7065    0.0048  0.394  \n",
       "307  1365.6926    0.0046  0.330  \n",
       "\n",
       "[308 rows x 11 columns]"
      ]
     },
     "execution_count": 3,
     "metadata": {},
     "output_type": "execute_result"
    }
   ],
   "source": [
    "#Data Read\n",
    "df_climate_change = pd.read_csv('climate_change.csv')\n",
    "df_climate_change"
   ]
  },
  {
   "cell_type": "code",
   "execution_count": 8,
   "metadata": {},
   "outputs": [
    {
     "data": {
      "text/plain": [
       "Year          int64\n",
       "Month         int64\n",
       "MEI         float64\n",
       "CO2         float64\n",
       "CH4         float64\n",
       "N2O         float64\n",
       "CFC-11      float64\n",
       "CFC-12      float64\n",
       "TSI         float64\n",
       "Aerosols    float64\n",
       "Temp        float64\n",
       "dtype: object"
      ]
     },
     "execution_count": 8,
     "metadata": {},
     "output_type": "execute_result"
    }
   ],
   "source": [
    "df_climate_change.dtypes"
   ]
  },
  {
   "cell_type": "code",
   "execution_count": 9,
   "metadata": {},
   "outputs": [
    {
     "name": "stdout",
     "output_type": "stream",
     "text": [
      "<class 'pandas.core.frame.DataFrame'>\n",
      "RangeIndex: 308 entries, 0 to 307\n",
      "Data columns (total 11 columns):\n",
      " #   Column    Non-Null Count  Dtype  \n",
      "---  ------    --------------  -----  \n",
      " 0   Year      308 non-null    int64  \n",
      " 1   Month     308 non-null    int64  \n",
      " 2   MEI       308 non-null    float64\n",
      " 3   CO2       308 non-null    float64\n",
      " 4   CH4       308 non-null    float64\n",
      " 5   N2O       308 non-null    float64\n",
      " 6   CFC-11    308 non-null    float64\n",
      " 7   CFC-12    308 non-null    float64\n",
      " 8   TSI       308 non-null    float64\n",
      " 9   Aerosols  308 non-null    float64\n",
      " 10  Temp      308 non-null    float64\n",
      "dtypes: float64(9), int64(2)\n",
      "memory usage: 26.6 KB\n"
     ]
    }
   ],
   "source": [
    "df_climate_change.info()"
   ]
  },
  {
   "cell_type": "code",
   "execution_count": 12,
   "metadata": {},
   "outputs": [
    {
     "name": "stdout",
     "output_type": "stream",
     "text": [
      "Year        0\n",
      "Month       0\n",
      "MEI         0\n",
      "CO2         0\n",
      "CH4         0\n",
      "N2O         0\n",
      "CFC-11      0\n",
      "CFC-12      0\n",
      "TSI         0\n",
      "Aerosols    0\n",
      "Temp        0\n",
      "dtype: int64\n"
     ]
    }
   ],
   "source": [
    "print(df_climate_change.isna().sum()) "
   ]
  },
  {
   "cell_type": "code",
   "execution_count": 22,
   "metadata": {},
   "outputs": [
    {
     "data": {
      "text/html": [
       "<div>\n",
       "<style scoped>\n",
       "    .dataframe tbody tr th:only-of-type {\n",
       "        vertical-align: middle;\n",
       "    }\n",
       "\n",
       "    .dataframe tbody tr th {\n",
       "        vertical-align: top;\n",
       "    }\n",
       "\n",
       "    .dataframe thead th {\n",
       "        text-align: right;\n",
       "    }\n",
       "</style>\n",
       "<table border=\"1\" class=\"dataframe\">\n",
       "  <thead>\n",
       "    <tr style=\"text-align: right;\">\n",
       "      <th></th>\n",
       "      <th>Year</th>\n",
       "      <th>Month</th>\n",
       "      <th>MEI</th>\n",
       "      <th>CO2</th>\n",
       "      <th>CH4</th>\n",
       "      <th>N2O</th>\n",
       "      <th>CFC-11</th>\n",
       "      <th>CFC-12</th>\n",
       "      <th>TSI</th>\n",
       "      <th>Aerosols</th>\n",
       "      <th>Temp</th>\n",
       "    </tr>\n",
       "  </thead>\n",
       "  <tbody>\n",
       "    <tr>\n",
       "      <th>65</th>\n",
       "      <td>1988</td>\n",
       "      <td>10</td>\n",
       "      <td>-1.35</td>\n",
       "      <td>349.08</td>\n",
       "      <td>1708.91</td>\n",
       "      <td>306.938</td>\n",
       "      <td>250.566</td>\n",
       "      <td>453.848</td>\n",
       "      <td>1366.1118</td>\n",
       "      <td>0.0065</td>\n",
       "      <td>0.12</td>\n",
       "    </tr>\n",
       "  </tbody>\n",
       "</table>\n",
       "</div>"
      ],
      "text/plain": [
       "    Year  Month   MEI     CO2      CH4      N2O   CFC-11   CFC-12        TSI  \\\n",
       "65  1988     10 -1.35  349.08  1708.91  306.938  250.566  453.848  1366.1118   \n",
       "\n",
       "    Aerosols  Temp  \n",
       "65    0.0065  0.12  "
      ]
     },
     "execution_count": 22,
     "metadata": {},
     "output_type": "execute_result"
    }
   ],
   "source": [
    "#df_climate_change_train =\n",
    "df_climate_change_train = df_climate_change[df_climate_change['Year'] < 2007]\n",
    "df_climate_change_train.sample()"
   ]
  },
  {
   "cell_type": "code",
   "execution_count": 28,
   "metadata": {},
   "outputs": [
    {
     "name": "stdout",
     "output_type": "stream",
     "text": [
      "                            OLS Regression Results                            \n",
      "==============================================================================\n",
      "Dep. Variable:                   Temp   R-squared:                       0.751\n",
      "Model:                            OLS   Adj. R-squared:                  0.744\n",
      "Method:                 Least Squares   F-statistic:                     103.6\n",
      "Date:                Sat, 22 May 2021   Prob (F-statistic):           1.94e-78\n",
      "Time:                        23:31:16   Log-Likelihood:                 280.10\n",
      "No. Observations:                 284   AIC:                            -542.2\n",
      "Df Residuals:                     275   BIC:                            -509.4\n",
      "Df Model:                           8                                         \n",
      "Covariance Type:            nonrobust                                         \n",
      "==============================================================================\n",
      "                 coef    std err          t      P>|t|      [0.025      0.975]\n",
      "------------------------------------------------------------------------------\n",
      "const       -124.5943     19.887     -6.265      0.000    -163.744     -85.445\n",
      "MEI            0.0642      0.006      9.923      0.000       0.051       0.077\n",
      "CO2            0.0065      0.002      2.826      0.005       0.002       0.011\n",
      "CH4            0.0001      0.001      0.240      0.810      -0.001       0.001\n",
      "N2O           -0.0165      0.009     -1.930      0.055      -0.033       0.000\n",
      "CFC-11        -0.0066      0.002     -4.078      0.000      -0.010      -0.003\n",
      "CFC-12         0.0038      0.001      3.757      0.000       0.002       0.006\n",
      "TSI            0.0931      0.015      6.313      0.000       0.064       0.122\n",
      "Aerosols      -1.5376      0.213     -7.210      0.000      -1.957      -1.118\n",
      "==============================================================================\n",
      "Omnibus:                        8.740   Durbin-Watson:                   0.956\n",
      "Prob(Omnibus):                  0.013   Jarque-Bera (JB):               10.327\n",
      "Skew:                           0.289   Prob(JB):                      0.00572\n",
      "Kurtosis:                       3.733   Cond. No.                     8.53e+06\n",
      "==============================================================================\n",
      "\n",
      "Notes:\n",
      "[1] Standard Errors assume that the covariance matrix of the errors is correctly specified.\n",
      "[2] The condition number is large, 8.53e+06. This might indicate that there are\n",
      "strong multicollinearity or other numerical problems.\n"
     ]
    }
   ],
   "source": [
    "X = df_climate_change_train[['MEI', 'CO2', 'CH4', 'N2O', 'CFC-11', 'CFC-12', 'TSI', 'Aerosols']]\n",
    "Y = df_climate_change_train[['Temp']]\n",
    "X = sm.add_constant(X)\n",
    "modelo_linear_climate_change  = sm.OLS(Y, X)\n",
    "modelo_linear_climate_change = modelo_linear_climate_change.fit()\n",
    "print(modelo_linear_climate_change.summary())"
   ]
  },
  {
   "cell_type": "markdown",
   "metadata": {},
   "source": [
    "Qual o valor de  𝑅²  que você encontrou?\n",
    "\n",
    "R-squared = 0.751\n",
    "\n",
    "Isso indica que uma grande proporção da variância da variável resposta é explicada pela regressão"
   ]
  },
  {
   "cell_type": "markdown",
   "metadata": {
    "id": "fHBFStnqAT3l"
   },
   "source": [
    "## Problema 2\n",
    "\n",
    "Quais variáveis foram significativas?"
   ]
  },
  {
   "cell_type": "code",
   "execution_count": null,
   "metadata": {
    "id": "jM7UWXxaBI3w"
   },
   "outputs": [],
   "source": []
  },
  {
   "cell_type": "markdown",
   "metadata": {
    "id": "_CGItWg9BJfd"
   },
   "source": [
    "## Problema 3\n",
    "\n",
    "A opinião científica atual é que N20 e CFC-11 são gases de efeito estufa. Entretanto os coeficientes dessas variáveis na regressão deram negativos, indicando que o aumento da concentração desses gases estariam associadas com baixas temperaturas. \n",
    "\n",
    "Qual a explicação para essa contradição?"
   ]
  },
  {
   "cell_type": "markdown",
   "metadata": {
    "id": "iLNrIiDyCDHM"
   },
   "source": []
  },
  {
   "cell_type": "markdown",
   "metadata": {
    "id": "Qny1SyTXCDg5"
   },
   "source": [
    "## Problema 4\n",
    "\n",
    "Calcule a correlação entre todas as variáveis do conjunto de treinamento. \n",
    "\n",
    "1. Quais outras variáveis são muito correlacionadas com N2O (correlação > 0.7) ? \n",
    "2. Quais outras variáveis são muito correlacionadas com CFC.11 ?"
   ]
  },
  {
   "cell_type": "code",
   "execution_count": null,
   "metadata": {
    "id": "9SV7cdk7DMOq"
   },
   "outputs": [],
   "source": []
  },
  {
   "cell_type": "markdown",
   "metadata": {
    "id": "CjsErl_2DMf9"
   },
   "source": [
    "## Problema 5\n",
    "\n",
    "Vamos simplificar o modelo e remover as variáveis muito correlacionadas. Crie um modelo com MEI, TSI, Aerosols e N2O. \n",
    "\n",
    "1. Qual o coeficiente do N2O nesse novo modelo?\n",
    "2. Qual o valor do $R^2$ ?"
   ]
  },
  {
   "cell_type": "code",
   "execution_count": null,
   "metadata": {
    "id": "FPxGxhIMDtQW"
   },
   "outputs": [],
   "source": []
  },
  {
   "cell_type": "markdown",
   "metadata": {
    "id": "ItR6HoF7DwnZ"
   },
   "source": [
    "# Dados do PISA\n",
    "\n",
    "O Programme for International Student Assessment (PISA) é um teste feito no mundo todo a cada 3 anos para estudantes de 15 anos para avaliar a performance em matemática, leitura e ciências. A ideia do teste é fornecer uma maneira de comparar estudantes de diferentes partes do mundo. O objetivo dessa questão é prever as notas de leitura dos estudantes dos Estados Unidos para o PISA de 2009.\n",
    "\n",
    "O dataset [pisa2009train.csv](https://raw.githubusercontent.com/abnr/ml-data/main/pisa2009train.csv) e [pisa2009test.csv](https://raw.githubusercontent.com/abnr/ml-data/main/pisa2009test.csv) contem informação sobre demografia e escolas dos estudantes norte-americanos que fazem os exame, extraidos do dataset 2009 Pisa Public-Use Data Files distribuido pela United States National Center for Education Statistics (NCES). Esse dataset não possui informações que tornem possível a identificação dos estudantes.\n",
    " \n",
    "Cada linha do dataset pisa2009train.csv e pisa2009test.csv representa um estudante que fez a prova. Os datasets possuem as seguintes variáveis:\n",
    "\n",
    "* grade: A série do aluno na escola (a maior parte dos alunos está na 10ª) \n",
    "\n",
    "* male: Se o estudante é do sexo masculino (1/0)\n",
    "\n",
    "* raceeth: A raça/etnia do estudante.\n",
    "\n",
    "* preschool: Se o estudante cursou a pré-escola (1/0)\n",
    "\n",
    "* expectBachelors: Se o estudante espera fazer graduação superior (1/0)\n",
    "\n",
    "* motherHS: Se a mãe do estudante completou o ensino médio (1/0) \n",
    "\n",
    "* motherBachelors: Se a mãe do estudante completou a graduação superior (1/0)\n",
    "\n",
    "* motherWork: Se a mãe do estudante possui um emprego  (1/0)\n",
    "\n",
    "* fatherHS: Se o pai do estudante completou o ensino médio  (1/0)\n",
    "\n",
    "* fatherBachelors: Se o pai do estudante obteve graduação superior (1/0)\n",
    "\n",
    "* fatherWork: Se o pai do estudante possui um emprego (1/0)\n",
    "\n",
    "* selfBornUS: Se o estudante nasceu nos Estados Unidos (1/0)\n",
    "\n",
    "* motherBornUS: Se a mãe do estudante nasceu nos Estados Unidos (1/0)\n",
    "\n",
    "* fatherBornUS: Se o pai do estudante nasceu nos Estados Unidos (1/0)\n",
    "\n",
    "* englishAtHome: Se o estudante fala inglês em casa (1/0)\n",
    "\n",
    "* computerForSchoolwork: Se o estudante tem acesso a um computador para tarefas da escola (1/0)\n",
    "\n",
    "* read30MinsADay: Se o estudante lê por prazer 30 minutos/dia (1/0)\n",
    "\n",
    "* minutesPerWeekEnglish: Número de minutos que o estudante passa por semana em aulas de inglês\n",
    "\n",
    "* studentsInEnglish: Número de estudantes na sala de inglês da escola. \n",
    "\n",
    "* schoolHasLibrary: Se a escola do estudante possui uma biblioteca.  (1/0)\n",
    "\n",
    "* publicSchool: Se o estudante estuda em uma escola pública  (1/0)\n",
    "\n",
    "* urban: Se o estudante estuda em uma escola em uma área urbana  (1/0)\n",
    "\n",
    "* schoolSize: O número de estudante na escola \n",
    "\n",
    "* readingScore: A nota do estudante em leitura em uma escala de 1000 pontos. "
   ]
  },
  {
   "cell_type": "markdown",
   "metadata": {
    "id": "O0mQmDjQKeux"
   },
   "source": [
    "## Problema 1: Perguntas sobre o dataset:\n",
    "\n",
    "1. Quantos alunos tem no dataset?\n",
    "2. Qual a média da nota de leitura dos estudantes com valor de $male == 1$ e $male == 0$ ?\n",
    "3. Quais variáveis possuem valores faltantes?\n",
    "4. Escolha e explique uma estratégia para lidar com os valroes faltantes.\n",
    "5. Quais variáveis são nominais com pelo menos 3 possívels valores? Quais variáveis são ordinais com pelo menos 3 possívels valores?\n"
   ]
  },
  {
   "cell_type": "code",
   "execution_count": null,
   "metadata": {
    "id": "c1vcTzeDJcPJ"
   },
   "outputs": [],
   "source": []
  },
  {
   "cell_type": "markdown",
   "metadata": {
    "id": "9Bj5owr7NjSP"
   },
   "source": [
    "## Problema 2\n",
    "\n",
    "Crie um modelo de regressão com dados de treino e teste com o de testes. Use variáveis dummies para as variáveis categóricas. Qual o valor do $R^2$ e erro médio quadrático para o conjunto de treinamento ?"
   ]
  },
  {
   "cell_type": "code",
   "execution_count": null,
   "metadata": {
    "id": "LY7aBzEmObNr"
   },
   "outputs": [],
   "source": []
  },
  {
   "cell_type": "markdown",
   "metadata": {
    "id": "2HzmXugIOcIY"
   },
   "source": [
    "## Problema 3\n",
    "\n",
    "Considere dois estudantes A e B. Eles possuem todos os valores iguais exceto que o estudante A é da série 11 e o estudante B é da sala 9. Qual é a nota prevista para o estudante A menos a nota prevista para o estudante B ?"
   ]
  },
  {
   "cell_type": "code",
   "execution_count": null,
   "metadata": {
    "id": "KOk7uCuxPhoz"
   },
   "outputs": [],
   "source": []
  },
  {
   "cell_type": "markdown",
   "metadata": {
    "id": "kEnMCLv_Piof"
   },
   "source": [
    "## Problema 4\n",
    "\n",
    "Quais variáveis você considera que são candidatas para remoção do modelo?"
   ]
  },
  {
   "cell_type": "code",
   "execution_count": null,
   "metadata": {
    "id": "E9KALO4OQgdq"
   },
   "outputs": [],
   "source": []
  },
  {
   "cell_type": "markdown",
   "metadata": {
    "id": "2PsdMA-PQhEO"
   },
   "source": [
    "## Problema 5\n",
    "\n",
    "Use o dataset de treino para estimar as notas de alunos que não foram usados no treinamento. Qual o $R^2$ e RMSE para esse conjunto?"
   ]
  },
  {
   "cell_type": "code",
   "execution_count": null,
   "metadata": {
    "id": "feqS-LC66KDP"
   },
   "outputs": [],
   "source": []
  },
  {
   "cell_type": "markdown",
   "metadata": {
    "id": "Y4PcyPIE6NKy"
   },
   "source": [
    "# Dados do Google Flu\n",
    "\n",
    "A epidemia de gripe é um grande problema de saúde pública que causa um grande número de hospitalizações e mortes. De acordo com o National Vital Statistics Reports, publicado em outubro de 2012, influenza é a oitava causa de mortes em 2011 nos Estados Unidos. Para o mundo todo, a cada ano, morrem de 250000 à 500000 pessoas por ano de influenza.\n",
    "\n",
    "O Centro de Controle de Doenças (CDC) e o \n",
    "European Influenza Surveillance Scheme (EISS) detectam influenza através de dados clínicos, entretanto essas informações são publicadas com atraso de 1-2 semanas.\n",
    "\n",
    "O Google Flu Trends é um projeto que foi criado para testar se é possível identificar a quantidade de casos de gripe baseado na quantidade de buscas sobre o assunto, já que esse dado pode ser recuperado imediatamente.\n",
    "\n",
    "Nosso objetivo é estimar o número de doenças similares a influenza (influenza-like illness ILI) usando a informação das buscas do Google. \n",
    "\n",
    "Uma das fontes de dados, o Google Search Queries - Google Trends fornece a contagem semanal de buscas dos usuários do google ao redor do mundo. Para cada local, a contagem é normalizada dividindo a contadem de cada busca na semana pelo número total de buscas. Dessa forma os valores estão entre 0 e 1.\n",
    " \n",
    " O arquivo csv [FluTrain](https://raw.githubusercontent.com/abnr/ml-data/main/FluTrain.csv) agrega os dois dados de Janeiro de 2004 até Dezembro de 2011, com as colunas:\n",
    "\n",
    "\"Week\" - A faixa de datas a qual a observação foi feita, no formato ano/mes/dia.\n",
    "\n",
    "\"ILI\" - A porcentagem de casos de ILI reportados na semana.\n",
    "\n",
    "\"Queries\" - A fração das buscas de ILI naquela semana.\n",
    "\n",
    "\n",
    "\n",
    "\n"
   ]
  },
  {
   "cell_type": "markdown",
   "metadata": {
    "id": "ezT3n0S8Hap4"
   },
   "source": [
    "## Problema 1\n",
    "\n",
    "Verifique se ILI segue uma distribuição normal. Caso não seja normal, utilize alguma estratégia para transformar esses dados.\n",
    "\n"
   ]
  },
  {
   "cell_type": "code",
   "execution_count": null,
   "metadata": {
    "id": "PXE4Uh1xHRKG"
   },
   "outputs": [],
   "source": []
  },
  {
   "cell_type": "markdown",
   "metadata": {
    "id": "PHdsZDTAHcqI"
   },
   "source": [
    "## Problema 2\n",
    "\n",
    "Ajuste um modelo de regressão linear e calcule o $R^2$.\n",
    "\n"
   ]
  },
  {
   "cell_type": "code",
   "execution_count": null,
   "metadata": {
    "id": "kH0hfrF8HeXX"
   },
   "outputs": [],
   "source": []
  },
  {
   "cell_type": "markdown",
   "metadata": {
    "id": "FGXuYRznHeny"
   },
   "source": [
    "## Problema 3\n",
    "\n",
    "O arquivo [FluTest.csv](https://raw.githubusercontent.com/abnr/ml-data/main/FluTest.csv) contem os dados de 2012, utilize esses dados para teste. Calcule as métricas de erro para esse dataset e faça a análise residual.\n",
    "\n",
    "\n"
   ]
  },
  {
   "cell_type": "code",
   "execution_count": null,
   "metadata": {
    "id": "yHhSqp75Hgr1"
   },
   "outputs": [],
   "source": []
  },
  {
   "cell_type": "markdown",
   "metadata": {
    "id": "WYOD69jaHg6m"
   },
   "source": [
    "## Problema 4\n",
    "\n",
    "Crie uma nova variável usando a coluna ILI com lag de 2. Utilize essa variável, além das buscas do google como entrada. Treine o modelo de regressão, refaça análise residual e verifique quais variáveis foram significativas. Compare as métricas de erro do dataset de teste desse modelo com o modelo anterior."
   ]
  },
  {
   "cell_type": "code",
   "execution_count": null,
   "metadata": {
    "id": "zy2ealD_Hhlp"
   },
   "outputs": [],
   "source": []
  },
  {
   "cell_type": "markdown",
   "metadata": {
    "id": "XxDzMM4SQ1vU"
   },
   "source": [
    "# Baseball\n",
    "\n",
    "Vamos usar o [dataset de baseball](https://raw.githubusercontent.com/abnr/ml-data/main/baseball.csv) para tentar prever quem vai ser o campeão da temporada. Esse dataset é composto pelas variáveis:\n",
    "\n",
    "* Team: O código para o nome do time.\n",
    "* League: A liga que o time pertence, pode ser AL ou NL\n",
    "* Year: Ano do registro\n",
    "* RS: o número de runs do time no ano.\n",
    "* RA: O número de runs permitidos pelo time no ano.\n",
    "* W: O número de vitórias na temporada \n",
    "* OBP: A porcentagem de 'on-base' \n",
    "* SLG: A slugging percentage do time no ano\n",
    "* BA: A batting average do time no ano\n",
    "* Playoffs: Se o time foi ou não para os playoffs\n",
    "* RankSeason: Entre os times no playoff o rank final dele no ano.\n",
    "* RankPlayoffs: O rank do time no playoff. O campeão tem rank 1.\n",
    "* G: O número de partidas jogadas no ano.\n",
    "* OOBP: A porcentagem de 'on-base' dos oponentes do ano.\n",
    "* OSLG: A slugging percentage dos oponentes no ano.\n"
   ]
  },
  {
   "cell_type": "markdown",
   "metadata": {
    "id": "xQvyKORQIfvb"
   },
   "source": [
    "## Problema 1\n",
    "\n",
    "Use o rank final dos Playoffs para modelar um classficador para identificar o campeão daquele ano. Selecione e justifique as variáveis e compare os modelos."
   ]
  },
  {
   "cell_type": "code",
   "execution_count": null,
   "metadata": {
    "id": "VlRMIGHVJG_A"
   },
   "outputs": [],
   "source": []
  }
 ],
 "metadata": {
  "colab": {
   "name": "Desafio_2_Exercícios_Regressão.ipynb",
   "provenance": [],
   "toc_visible": true
  },
  "kernelspec": {
   "display_name": "Python 3",
   "language": "python",
   "name": "python3"
  },
  "language_info": {
   "codemirror_mode": {
    "name": "ipython",
    "version": 3
   },
   "file_extension": ".py",
   "mimetype": "text/x-python",
   "name": "python",
   "nbconvert_exporter": "python",
   "pygments_lexer": "ipython3",
   "version": "3.8.5"
  }
 },
 "nbformat": 4,
 "nbformat_minor": 1
}
