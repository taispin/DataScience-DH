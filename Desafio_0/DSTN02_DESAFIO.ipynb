{
 "cells": [
  {
   "cell_type": "markdown",
   "metadata": {
    "id": "rZ8MJxRmWNyt"
   },
   "source": [
    "# DESAFIO 0"
   ]
  },
  {
   "cell_type": "markdown",
   "metadata": {
    "id": "EDAYtjGlWNy3"
   },
   "source": [
    "The period between 1970 and 1982 marked a significant shift in the United States car industry. American production shifted from heavy, powerful six- and eight-cylinder cars with poor gas mileage to lighter, less powerful, four-cylinder cars with higher fuel efficiency. The global auto industry–including Americans and their European and Japanese competitors–raised overall miles per gallon (MPG) by focusing on four-cylinder cars and making them more fuel efficient."
   ]
  },
  {
   "cell_type": "code",
   "execution_count": 5,
   "metadata": {},
   "outputs": [],
   "source": [
    "# 1. IMPORT DAS LIBRARIES\n",
    "# 2. \n"
   ]
  },
  {
   "cell_type": "code",
   "execution_count": 6,
   "metadata": {
    "id": "dDyRvFYBWNy5"
   },
   "outputs": [],
   "source": [
    "import pandas as pd\n",
    "import numpy as np"
   ]
  },
  {
   "cell_type": "markdown",
   "metadata": {
    "id": "DFdWAr5OWNy6"
   },
   "source": [
    "## Faça a leitura inicial dos dados e explore suas informações, estude seus tipos, sua forma e apresente uma análise inicial das medidas de dispersão de seus atributos."
   ]
  },
  {
   "cell_type": "code",
   "execution_count": 23,
   "metadata": {
    "id": "APNiXxfBWNy8"
   },
   "outputs": [
    {
     "name": "stdout",
     "output_type": "stream",
     "text": [
      "Data Sample:\n"
     ]
    },
    {
     "data": {
      "text/html": [
       "<div>\n",
       "<style scoped>\n",
       "    .dataframe tbody tr th:only-of-type {\n",
       "        vertical-align: middle;\n",
       "    }\n",
       "\n",
       "    .dataframe tbody tr th {\n",
       "        vertical-align: top;\n",
       "    }\n",
       "\n",
       "    .dataframe thead th {\n",
       "        text-align: right;\n",
       "    }\n",
       "</style>\n",
       "<table border=\"1\" class=\"dataframe\">\n",
       "  <thead>\n",
       "    <tr style=\"text-align: right;\">\n",
       "      <th></th>\n",
       "      <th>mpg</th>\n",
       "      <th>cylinders</th>\n",
       "      <th>displacement</th>\n",
       "      <th>horsepower</th>\n",
       "      <th>weight</th>\n",
       "      <th>acceleration</th>\n",
       "      <th>model_year</th>\n",
       "      <th>origin</th>\n",
       "      <th>name</th>\n",
       "    </tr>\n",
       "  </thead>\n",
       "  <tbody>\n",
       "    <tr>\n",
       "      <th>211</th>\n",
       "      <td>16.5</td>\n",
       "      <td>6</td>\n",
       "      <td>168.0</td>\n",
       "      <td>120.0</td>\n",
       "      <td>3820</td>\n",
       "      <td>16.7</td>\n",
       "      <td>76</td>\n",
       "      <td>europe</td>\n",
       "      <td>mercedes-benz 280s</td>\n",
       "    </tr>\n",
       "    <tr>\n",
       "      <th>333</th>\n",
       "      <td>32.7</td>\n",
       "      <td>6</td>\n",
       "      <td>168.0</td>\n",
       "      <td>132.0</td>\n",
       "      <td>2910</td>\n",
       "      <td>11.4</td>\n",
       "      <td>80</td>\n",
       "      <td>japan</td>\n",
       "      <td>datsun 280-zx</td>\n",
       "    </tr>\n",
       "    <tr>\n",
       "      <th>313</th>\n",
       "      <td>28.0</td>\n",
       "      <td>4</td>\n",
       "      <td>151.0</td>\n",
       "      <td>90.0</td>\n",
       "      <td>2678</td>\n",
       "      <td>16.5</td>\n",
       "      <td>80</td>\n",
       "      <td>usa</td>\n",
       "      <td>chevrolet citation</td>\n",
       "    </tr>\n",
       "    <tr>\n",
       "      <th>72</th>\n",
       "      <td>15.0</td>\n",
       "      <td>8</td>\n",
       "      <td>304.0</td>\n",
       "      <td>150.0</td>\n",
       "      <td>3892</td>\n",
       "      <td>12.5</td>\n",
       "      <td>72</td>\n",
       "      <td>usa</td>\n",
       "      <td>amc matador (sw)</td>\n",
       "    </tr>\n",
       "    <tr>\n",
       "      <th>66</th>\n",
       "      <td>17.0</td>\n",
       "      <td>8</td>\n",
       "      <td>304.0</td>\n",
       "      <td>150.0</td>\n",
       "      <td>3672</td>\n",
       "      <td>11.5</td>\n",
       "      <td>72</td>\n",
       "      <td>usa</td>\n",
       "      <td>amc ambassador sst</td>\n",
       "    </tr>\n",
       "  </tbody>\n",
       "</table>\n",
       "</div>"
      ],
      "text/plain": [
       "      mpg  cylinders  displacement  horsepower  weight  acceleration  \\\n",
       "211  16.5          6         168.0       120.0    3820          16.7   \n",
       "333  32.7          6         168.0       132.0    2910          11.4   \n",
       "313  28.0          4         151.0        90.0    2678          16.5   \n",
       "72   15.0          8         304.0       150.0    3892          12.5   \n",
       "66   17.0          8         304.0       150.0    3672          11.5   \n",
       "\n",
       "     model_year  origin                name  \n",
       "211          76  europe  mercedes-benz 280s  \n",
       "333          80   japan       datsun 280-zx  \n",
       "313          80     usa  chevrolet citation  \n",
       "72           72     usa    amc matador (sw)  \n",
       "66           72     usa  amc ambassador sst  "
      ]
     },
     "execution_count": 23,
     "metadata": {},
     "output_type": "execute_result"
    }
   ],
   "source": [
    "# LEITURA INICIAL DOS DADOS\n",
    "\n",
    "auto_industry = pd.read_csv('auto_industry.csv')\n",
    "print(\"Data Sample:\")\n",
    "auto_industry.sample(5)"
   ]
  },
  {
   "cell_type": "code",
   "execution_count": 26,
   "metadata": {},
   "outputs": [
    {
     "name": "stdout",
     "output_type": "stream",
     "text": [
      "<class 'pandas.core.frame.DataFrame'>\n",
      "RangeIndex: 398 entries, 0 to 397\n",
      "Data columns (total 9 columns):\n",
      " #   Column        Non-Null Count  Dtype  \n",
      "---  ------        --------------  -----  \n",
      " 0   mpg           398 non-null    float64\n",
      " 1   cylinders     398 non-null    int64  \n",
      " 2   displacement  398 non-null    float64\n",
      " 3   horsepower    392 non-null    float64\n",
      " 4   weight        398 non-null    int64  \n",
      " 5   acceleration  398 non-null    float64\n",
      " 6   model_year    398 non-null    int64  \n",
      " 7   origin        398 non-null    object \n",
      " 8   name          398 non-null    object \n",
      "dtypes: float64(4), int64(3), object(2)\n",
      "memory usage: 28.1+ KB\n"
     ]
    }
   ],
   "source": [
    "# OBSERVAÇÃO INICIAL: COLUMNS DATATYPES\n",
    "auto_industry.info();"
   ]
  },
  {
   "cell_type": "code",
   "execution_count": 37,
   "metadata": {},
   "outputs": [
    {
     "name": "stdout",
     "output_type": "stream",
     "text": [
      "Records:\n",
      "(398, 9)\n",
      "\n",
      "=>> ISNA:\n",
      "mpg             0\n",
      "cylinders       0\n",
      "displacement    0\n",
      "horsepower      6\n",
      "weight          0\n",
      "acceleration    0\n",
      "model_year      0\n",
      "origin          0\n",
      "name            0\n",
      "dtype: int64\n",
      "\n",
      "=>> ISNULL:\n",
      "mpg             0\n",
      "cylinders       0\n",
      "displacement    0\n",
      "horsepower      6\n",
      "weight          0\n",
      "acceleration    0\n",
      "model_year      0\n",
      "origin          0\n",
      "name            0\n",
      "dtype: int64\n",
      "\n",
      "=>>:\n"
     ]
    },
    {
     "data": {
      "text/plain": [
       "(array([], dtype=int64), array([], dtype=int64))"
      ]
     },
     "execution_count": 37,
     "metadata": {},
     "output_type": "execute_result"
    }
   ],
   "source": [
    "# OBSERVAÇÃO INICIAL: FORMA DOS DATATYPES. EXISTE ALGUMA VARIÁVEL COM VALORES NULL, NAN OU \"\"?\n",
    "print(\"Records:\")\n",
    "print(auto_industry.shape)\n",
    "\n",
    "print(\"\\n\" + \"=>> ISNA:\")\n",
    "print(auto_industry.isna().sum()) \n",
    "\n",
    "print(\"\\n\" + \"=>> ISNULL:\")\n",
    "print(auto_industry.isnull().sum()) \n",
    "\n",
    "print(\"\\n\" + \"=>>\" \":\")\n",
    "np.where(auto_industry.applymap(lambda x: x== ' '))\n"
   ]
  },
  {
   "cell_type": "code",
   "execution_count": 47,
   "metadata": {},
   "outputs": [
    {
     "name": "stdout",
     "output_type": "stream",
     "text": [
      "(392, 9)\n"
     ]
    }
   ],
   "source": [
    "# DROPPING 6 NULL LINES \n",
    "auto_industry.dropna(inplace=True)\n",
    "print(auto_industry.shape)"
   ]
  },
  {
   "cell_type": "code",
   "execution_count": 48,
   "metadata": {},
   "outputs": [
    {
     "name": "stdout",
     "output_type": "stream",
     "text": [
      "mpg             0\n",
      "cylinders       0\n",
      "displacement    0\n",
      "horsepower      0\n",
      "weight          0\n",
      "acceleration    0\n",
      "model_year      0\n",
      "origin          0\n",
      "name            0\n",
      "dtype: int64\n"
     ]
    }
   ],
   "source": [
    "auto_industry.head()\n",
    "print(auto_industry.isna().sum()) "
   ]
  },
  {
   "cell_type": "code",
   "execution_count": null,
   "metadata": {},
   "outputs": [],
   "source": [
    "# OBSERVAÇÃO INICIAL: MEDIDAS DE DISPERÇÃO DOS ATRIBUTOS\n"
   ]
  },
  {
   "cell_type": "markdown",
   "metadata": {
    "id": "jensLW20WNy9"
   },
   "source": [
    "## Procure por valores faltantes nas colunas do dataframe e faça as substituições mais razoáveis."
   ]
  },
  {
   "cell_type": "code",
   "execution_count": null,
   "metadata": {
    "id": "cwdGzcAlWNy9"
   },
   "outputs": [],
   "source": []
  },
  {
   "cell_type": "markdown",
   "metadata": {
    "id": "6vbZtoxaWNy-"
   },
   "source": [
    "## Calcule quantos modelos foram lançados em anos pares"
   ]
  },
  {
   "cell_type": "code",
   "execution_count": null,
   "metadata": {
    "id": "fOLv7b-vWNy-"
   },
   "outputs": [],
   "source": []
  },
  {
   "cell_type": "markdown",
   "metadata": {
    "id": "sHKkK3DKWNy_"
   },
   "source": [
    "## Crie uma coluna para a marca do veículo e outra para o nome"
   ]
  },
  {
   "cell_type": "code",
   "execution_count": null,
   "metadata": {
    "id": "oYBvKVqfWNzA"
   },
   "outputs": [],
   "source": []
  },
  {
   "cell_type": "markdown",
   "metadata": {
    "id": "fbovDhXnWNzC"
   },
   "source": [
    "## É posível identificar alguma relação entre mpg e acceleration?"
   ]
  },
  {
   "cell_type": "code",
   "execution_count": null,
   "metadata": {
    "id": "5fapgWnwWNzC"
   },
   "outputs": [],
   "source": []
  },
  {
   "cell_type": "markdown",
   "metadata": {
    "id": "G_TAjIU8WNzC"
   },
   "source": [
    "## Explore a função [`get_group()`](https://pandas.pydata.org/pandas-docs/stable/reference/api/pandas.core.groupby.GroupBy.get_group.html) para criar um subconjunto dos dados e analisar apenas as entradas referentes à `'origin' = usa`."
   ]
  },
  {
   "cell_type": "code",
   "execution_count": null,
   "metadata": {
    "id": "iH7WBl8CWNzD"
   },
   "outputs": [],
   "source": []
  },
  {
   "cell_type": "markdown",
   "metadata": {
    "id": "tXQ6wL9wWNzD"
   },
   "source": [
    "## Remova os elementos duplicados e crie uma tabela de consumo em (Km/L), altere os nomes dos países de orígem para que todos comecem com letras maiúsculas."
   ]
  },
  {
   "cell_type": "code",
   "execution_count": null,
   "metadata": {
    "id": "FGuu-JsTWNzD"
   },
   "outputs": [],
   "source": []
  },
  {
   "cell_type": "markdown",
   "metadata": {
    "id": "Rg--ya84WNzE"
   },
   "source": [
    "## Use a função [pivot_table()](https://pandas.pydata.org/pandas-docs/stable/reference/api/pandas.pivot_table.html) para criar uma tabela dinâmica que calcule a média do consumo (miles/galon) `'mpg'`. Divida o dataframe em ano de modelo `'model_year'` e número de cilindros `'cylinders'`. Estude e descreva os resultados."
   ]
  },
  {
   "cell_type": "code",
   "execution_count": null,
   "metadata": {
    "id": "QYxbw_xwWNzE"
   },
   "outputs": [],
   "source": []
  },
  {
   "cell_type": "markdown",
   "metadata": {
    "id": "nxewUrciWNzF"
   },
   "source": [
    "## Agrupe o dataframe por origem  `'origin'` e número cilindros `'cylinders'` e calcule a média da potência `'horsepower'` dos carros fabricados."
   ]
  },
  {
   "cell_type": "code",
   "execution_count": null,
   "metadata": {
    "id": "S5GnaE9rWNzG"
   },
   "outputs": [],
   "source": []
  },
  {
   "cell_type": "markdown",
   "metadata": {
    "id": "GDgTcdCeWNzH"
   },
   "source": [
    "## Faça uma segregação ainda mais severa com os dados, criando uma lista de intervalos de anos (dois a dois) como corte para a leitura da média de consumo dos veículos produzidos, como agrupados por origem `'origin'`, ano de modelo `'year_model'` e número de cilindros `'cylinders'`. Discuta a evolução na média de consumo, por ano e por país e por cilindro."
   ]
  },
  {
   "cell_type": "code",
   "execution_count": null,
   "metadata": {
    "id": "SbZOMKL8WNzH"
   },
   "outputs": [],
   "source": []
  },
  {
   "cell_type": "markdown",
   "metadata": {
    "id": "dJpstQ0ZWNzH"
   },
   "source": [
    "## Crie uma nova coluna que reflita a região mundial em que as origens dos veículos se encontram, certifique-se de que essa coluna também conterá valores que começam com letras maiúsculas."
   ]
  },
  {
   "cell_type": "code",
   "execution_count": null,
   "metadata": {
    "id": "gD5xVNEGWNzH"
   },
   "outputs": [],
   "source": []
  },
  {
   "cell_type": "markdown",
   "metadata": {
    "id": "tu913JWwWNzI"
   },
   "source": [
    "# Bônus - estatística"
   ]
  },
  {
   "cell_type": "markdown",
   "metadata": {
    "id": "_L0Xx8WyWNzJ"
   },
   "source": [
    "## Apresente a centralidade, desvio padrão e distribuição (histograma) das variáveis"
   ]
  },
  {
   "cell_type": "code",
   "execution_count": null,
   "metadata": {
    "id": "ZMwK-WdAWNzJ"
   },
   "outputs": [],
   "source": []
  },
  {
   "cell_type": "markdown",
   "metadata": {
    "id": "LqAKF7TlWNzK"
   },
   "source": [
    "## Gere um gráfico para mostrar a relação entre cada par de variável numérica."
   ]
  },
  {
   "cell_type": "code",
   "execution_count": null,
   "metadata": {
    "id": "9MRcNyQVWNzL"
   },
   "outputs": [],
   "source": []
  },
  {
   "cell_type": "markdown",
   "metadata": {
    "id": "LSklWYuhWNzL"
   },
   "source": [
    "# Bonus - DataViz"
   ]
  },
  {
   "cell_type": "markdown",
   "metadata": {
    "id": "eZbduVZMWNzL"
   },
   "source": [
    "## Gere gráficos de boxplots para todos os elementos numéricos do dataframe."
   ]
  },
  {
   "cell_type": "code",
   "execution_count": null,
   "metadata": {
    "id": "Jd99PxoDWNzM"
   },
   "outputs": [],
   "source": []
  },
  {
   "cell_type": "code",
   "execution_count": null,
   "metadata": {
    "id": "TprfwhVBZQYP"
   },
   "outputs": [],
   "source": [
    "tt"
   ]
  },
  {
   "cell_type": "markdown",
   "metadata": {
    "id": "2_IzdDT-WNzM"
   },
   "source": [
    "## Crie uma nova coluna com a relação peso/potência para cada veículo e um scatterplot dessa coluna com a de consumo que você criou "
   ]
  },
  {
   "cell_type": "code",
   "execution_count": null,
   "metadata": {
    "id": "1eijAKoFWNzM"
   },
   "outputs": [],
   "source": []
  }
 ],
 "metadata": {
  "anaconda-cloud": {},
  "colab": {
   "name": "DSTN02-DESAFIO.ipynb",
   "provenance": []
  },
  "kernelspec": {
   "display_name": "Python 3",
   "language": "python",
   "name": "python3"
  },
  "language_info": {
   "codemirror_mode": {
    "name": "ipython",
    "version": 3
   },
   "file_extension": ".py",
   "mimetype": "text/x-python",
   "name": "python",
   "nbconvert_exporter": "python",
   "pygments_lexer": "ipython3",
   "version": "3.8.5"
  }
 },
 "nbformat": 4,
 "nbformat_minor": 1
}
